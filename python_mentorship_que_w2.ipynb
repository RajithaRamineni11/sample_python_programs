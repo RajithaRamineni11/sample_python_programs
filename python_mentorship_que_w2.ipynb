{
  "nbformat": 4,
  "nbformat_minor": 0,
  "metadata": {
    "colab": {
      "provenance": [],
      "toc_visible": true
    },
    "kernelspec": {
      "name": "python3",
      "display_name": "Python 3"
    },
    "language_info": {
      "name": "python"
    }
  },
  "cells": [
    {
      "cell_type": "code",
      "source": [
        "#create a pandas series \n",
        "import pandas as pd\n",
        "x=pd.Series([98,87,34,56,23],index=range(1,6))\n",
        "print(x)"
      ],
      "metadata": {
        "colab": {
          "base_uri": "https://localhost:8080/"
        },
        "id": "uRE1z6oiLj_H",
        "outputId": "f20c5967-7dde-44cf-e64a-bacac699be0a"
      },
      "execution_count": null,
      "outputs": [
        {
          "output_type": "stream",
          "name": "stdout",
          "text": [
            "1    98\n",
            "2    87\n",
            "3    34\n",
            "4    56\n",
            "5    23\n",
            "dtype: int64\n"
          ]
        }
      ]
    },
    {
      "cell_type": "code",
      "source": [
        "#read any excel file\n",
        "x=pd.read_excel('/content/sample_data/housing.xlsx')\n",
        "print(x.head())"
      ],
      "metadata": {
        "colab": {
          "base_uri": "https://localhost:8080/"
        },
        "id": "QGmcu2VvMRaM",
        "outputId": "78822bde-1bea-4258-eca0-909fb508f1ae"
      },
      "execution_count": null,
      "outputs": [
        {
          "output_type": "stream",
          "name": "stdout",
          "text": [
            "   longitude  latitude  housing_median_age  total_rooms  total_bedrooms  \\\n",
            "0    -122.23     37.88                41.0        880.0           129.0   \n",
            "1    -122.22     37.86                21.0       7099.0          1106.0   \n",
            "2    -122.24     37.85                52.0       1467.0           190.0   \n",
            "3    -122.25     37.85                52.0       1274.0           235.0   \n",
            "4    -122.25     37.85                52.0       1627.0           280.0   \n",
            "\n",
            "   population  households  median_income  median_house_value ocean_proximity  \n",
            "0       322.0       126.0         8.3252            452600.0        NEAR BAY  \n",
            "1      2401.0      1138.0         8.3014            358500.0        NEAR BAY  \n",
            "2       496.0       177.0         7.2574            352100.0        NEAR BAY  \n",
            "3       558.0       219.0         5.6431            341300.0        NEAR BAY  \n",
            "4       565.0       259.0         3.8462            342200.0        NEAR BAY  \n"
          ]
        }
      ]
    },
    {
      "cell_type": "code",
      "execution_count": null,
      "metadata": {
        "colab": {
          "base_uri": "https://localhost:8080/"
        },
        "id": "QmIL2Q8OzodV",
        "outputId": "a9626628-a3ad-4113-8fdf-d1890a27a7e4"
      },
      "outputs": [
        {
          "output_type": "stream",
          "name": "stdout",
          "text": [
            "                Type   mpg  cyl   disp   hp  drat     wt   qsec  vs  am  gear  \\\n",
            "0          Mazda RX4  21.0    6  160.0  110  3.90  2.620  16.46   0   1     4   \n",
            "1      Mazda RX4 Wag  21.0    6  160.0  110  3.90  2.875  17.02   0   1     4   \n",
            "2         Datsun 710  22.8    4  108.0   93  3.85  2.320  18.61   1   1     4   \n",
            "3     Hornet 4 Drive  21.4    6  258.0  110  3.08  3.215  19.44   1   0     3   \n",
            "4  Hornet Sportabout  18.7    8  360.0  175  3.15  3.440  17.02   0   0     3   \n",
            "\n",
            "   carb  \n",
            "0     4  \n",
            "1     4  \n",
            "2     1  \n",
            "3     1  \n",
            "4     2  \n",
            "  --------------------------\n",
            "[6 4 8]\n",
            "Number of unique values :  3\n"
          ]
        }
      ],
      "source": [
        "#read any csv file\n",
        "import pandas as pd\n",
        "import numpy as np\n",
        "x=pd.read_csv(\"/content/sample_data/mtcars (1).csv\")\n",
        "print(x.head(5))\n",
        "print('  --------------------------')\n",
        "print( x['cyl'].unique() )\n",
        "n = x['cyl'].nunique()\n",
        "print(\"Number of unique values : \" , n)"
      ]
    },
    {
      "cell_type": "code",
      "source": [
        "#\"Draw a horizontal bar chart with Matplotlib?\n",
        "# x=['one', 'two', 'three', 'four', 'five']and y=[5, 24, 35, 67, 12]\n",
        "import matplotlib.pyplot as plt\n",
        "x=['one', 'two', 'three', 'four', 'five']\n",
        "y=[5, 24, 35, 67, 12]\n",
        "plt.barh(x,y)\n",
        "plt.show()"
      ],
      "metadata": {
        "id": "5SlfDPyZ073l",
        "colab": {
          "base_uri": "https://localhost:8080/",
          "height": 265
        },
        "outputId": "507fa669-ecad-46e6-c341-6121b354d801"
      },
      "execution_count": null,
      "outputs": [
        {
          "output_type": "display_data",
          "data": {
            "text/plain": [
              "<Figure size 432x288 with 1 Axes>"
            ],
            "image/png": "[encoded data removed]"
          },
          "metadata": {
            "needs_background": "light"
          }
        }
      ]
    },
    {
      "cell_type": "code",
      "source": [
        "#Write a Python program to draw a line plot with suitable label in the x axis, y axis and a title.\n",
        "import matplotlib.pyplot as plt\n",
        "x=['India','China','USA','Russia','Japan']\n",
        "y=[45,23,67,34,78]\n",
        "z=[54,83,55,64,68]\n",
        "plt.plot(x,y)\n",
        "plt.scatter(x,y)\n",
        "plt.plot(x,z)\n",
        "plt.scatter(x,z)\n",
        "plt.show()"
      ],
      "metadata": {
        "colab": {
          "base_uri": "https://localhost:8080/",
          "height": 265
        },
        "id": "Nu7ng5csPT3x",
        "outputId": "07b82ada-a430-4122-fc6b-3c0da2e0878b"
      },
      "execution_count": null,
      "outputs": [
        {
          "output_type": "display_data",
          "data": {
            "text/plain": [
              "<Figure size 432x288 with 1 Axes>"
            ],
            "image/png": "[encoded data removed]"
          },
          "metadata": {
            "needs_background": "light"
          }
        }
      ]
    },
    {
      "cell_type": "code",
      "source": [
        "#Write a Python program to draw a line plot with suitable label in the x axis, y axis and a title.\n",
        "import matplotlib.pyplot as plt\n",
        "x=[2000,2001,2002,2003,2004]\n",
        "y=[5, 24, 35, 67, 12]\n",
        "z=[23,11,45,12,67]\n",
        "plt.plot(x,y,label='y')\n",
        "plt.plot(x,z,label='z')\n",
        "plt.xticks(x)\n",
        "plt.legend()\n",
        "plt.show()"
      ],
      "metadata": {
        "colab": {
          "base_uri": "https://localhost:8080/",
          "height": 269
        },
        "id": "fjIo8X8h1SjX",
        "outputId": "435d0e82-4939-4be3-bb2a-4029261ed40e"
      },
      "execution_count": null,
      "outputs": [
        {
          "output_type": "display_data",
          "data": {
            "text/plain": [
              "<Figure size 432x288 with 1 Axes>"
            ],
            "image/png": "[encoded data removed]"
          },
          "metadata": {
            "needs_background": "light"
          }
        }
      ]
    },
    {
      "cell_type": "code",
      "source": [
        "#read mtcars.csv file, how to get 3 largest values of 'mpg'\n",
        "import pandas as pd\n",
        "x=pd.read_csv('/content/sample_data/mtcars (1).csv')\n",
        "print(x['mpg'].sort_values(ascending=False).head(3))"
      ],
      "metadata": {
        "id": "4KgvRA6A26uW",
        "colab": {
          "base_uri": "https://localhost:8080/"
        },
        "outputId": "9b5a8c64-ff5b-4dd1-be6f-7f5d75ce0bb5"
      },
      "execution_count": null,
      "outputs": [
        {
          "output_type": "stream",
          "name": "stdout",
          "text": [
            "19    33.9\n",
            "17    32.4\n",
            "27    30.4\n",
            "Name: mpg, dtype: float64\n"
          ]
        }
      ]
    },
    {
      "cell_type": "code",
      "source": [
        "#\"Write a Pandas program to select the rows where the number of attempts in the examination is greater than 2.\"\n",
        "stu=[{'stu':'Rajitha','marks':56,'attempts':2},\n",
        "     {'stu':'Saritha','marks':80,'attempts':1},\n",
        "     {'stu':'Shanaya','marks':77,'attempts':3},\n",
        "     {'stu':'abc','marks':81,'attempts':4}]\n",
        "s=pd.DataFrame(stu)\n",
        "print(s)\n",
        "print(s[s['attempts']>2])"
      ],
      "metadata": {
        "id": "FyPgyS0g4r--",
        "colab": {
          "base_uri": "https://localhost:8080/"
        },
        "outputId": "f407194f-8112-4450-83e4-70e175cdc03c"
      },
      "execution_count": null,
      "outputs": [
        {
          "output_type": "stream",
          "name": "stdout",
          "text": [
            "       stu  marks  attempts\n",
            "0  Rajitha     56         2\n",
            "1  Saritha     80         1\n",
            "2  Shanaya     77         3\n",
            "3      abc     81         4\n",
            "       stu  marks  attempts\n",
            "2  Shanaya     77         3\n",
            "3      abc     81         4\n"
          ]
        }
      ]
    },
    {
      "cell_type": "code",
      "source": [
        "#\"Write a Pandas program to select the rows where the number of attempts in the examination is greater than 2.\"\n",
        "stu={'students':['abc','def','pqr','xyz'],\n",
        "     'marks':[56,67,78,89],\n",
        "     'attempts':[1,2,3,4]}\n",
        "import pandas as pd\n",
        "df=pd.DataFrame(stu)\n",
        "print(df[df['attempts']>2])"
      ],
      "metadata": {
        "colab": {
          "base_uri": "https://localhost:8080/"
        },
        "id": "zrPL1xUBrd__",
        "outputId": "c717d8bc-14f8-4ce0-95d6-7ab5cb052e6a"
      },
      "execution_count": null,
      "outputs": [
        {
          "output_type": "stream",
          "name": "stdout",
          "text": [
            "  students  marks  attempts\n",
            "2      pqr     78         3\n",
            "3      xyz     89         4\n"
          ]
        }
      ]
    },
    {
      "cell_type": "code",
      "source": [
        "#\"Write a program to display horizontal bar chart of the marks of students\n",
        "#sampledata:\n",
        "#Students: raju,ramu,ravi,raghava,rajesh,ramana\n",
        "#Percentage: 55.4,56.9,78.7,92,3,88,67.8\"\n",
        "stud=['raju','ramu','ravi','raghava','rajesh','ramana']\n",
        "perc=[55.4,56.9,78.7,92,38.8,67.8]\n",
        "import matplotlib.pyplot as plt\n",
        "plt.barh(stud,perc)\n",
        "plt.show()"
      ],
      "metadata": {
        "id": "Kyf54yvF9ag3",
        "colab": {
          "base_uri": "https://localhost:8080/",
          "height": 265
        },
        "outputId": "217f1313-85c4-4f81-a817-746abecf0a1e"
      },
      "execution_count": null,
      "outputs": [
        {
          "output_type": "display_data",
          "data": {
            "text/plain": [
              "<Figure size 432x288 with 1 Axes>"
            ],
            "image/png": "[encoded data removed]"
          },
          "metadata": {
            "needs_background": "light"
          }
        }
      ]
    },
    {
      "cell_type": "code",
      "source": [
        "plt.bar(stud,perc)\n",
        "plt.xlabel('student names')\n",
        "plt.ylabel('marks')\n",
        "plt.title('students marks list')\n",
        "\n",
        "plt.show()"
      ],
      "metadata": {
        "colab": {
          "base_uri": "https://localhost:8080/",
          "height": 295
        },
        "id": "0WA9ZJdVYzde",
        "outputId": "6313db5d-1dad-4f58-8b74-2048be8d8ce4"
      },
      "execution_count": null,
      "outputs": [
        {
          "output_type": "display_data",
          "data": {
            "text/plain": [
              "<Figure size 432x288 with 1 Axes>"
            ],
            "image/png": "[encoded data removed]"
          },
          "metadata": {
            "needs_background": "light"
          }
        }
      ]
    },
    {
      "cell_type": "code",
      "source": [
        "country=['Ind',\"Ch\",'Ru',\"SA\",'USA']\n",
        "popu=[140,137,30,20,30]\n",
        "plt.scatter(range(len(popu)),popu)\n",
        "plt.show()\n",
        "country=['Ind',\"Ch\",'Ru',\"SA\",'USA']\n",
        "popu=[140,137,30,20,30]\n",
        "plt.scatter(country,popu)\n",
        "plt.show()"
      ],
      "metadata": {
        "colab": {
          "base_uri": "https://localhost:8080/",
          "height": 513
        },
        "id": "ys4hBwbUAbbo",
        "outputId": "66b6e19d-da46-4704-e574-37f4e8115c94"
      },
      "execution_count": null,
      "outputs": [
        {
          "output_type": "display_data",
          "data": {
            "text/plain": [
              "<Figure size 432x288 with 1 Axes>"
            ],
            "image/png": "[encoded data removed]"
          },
          "metadata": {
            "needs_background": "light"
          }
        },
        {
          "output_type": "display_data",
          "data": {
            "text/plain": [
              "<Figure size 432x288 with 1 Axes>"
            ],
            "image/png": "[encoded data removed]"
          },
          "metadata": {
            "needs_background": "light"
          }
        }
      ]
    },
    {
      "cell_type": "code",
      "source": [
        "country=['Ind',\"Ch\",'Ru',\"SA\",'USA']\n",
        "popu=[140,137,30,20,30]\n",
        "plt.plot(country,popu)"
      ],
      "metadata": {
        "colab": {
          "base_uri": "https://localhost:8080/",
          "height": 282
        },
        "id": "Z3gvbyUbBvk5",
        "outputId": "6227e7ee-9b40-49f0-ff1f-58365420e617"
      },
      "execution_count": null,
      "outputs": [
        {
          "output_type": "execute_result",
          "data": {
            "text/plain": [
              "[<matplotlib.lines.Line2D at 0x7fa6183431d0>]"
            ]
          },
          "metadata": {},
          "execution_count": 9
        },
        {
          "output_type": "display_data",
          "data": {
            "text/plain": [
              "<Figure size 432x288 with 1 Axes>"
            ],
            "image/png": "[encoded data removed]"
          },
          "metadata": {
            "needs_background": "light"
          }
        }
      ]
    },
    {
      "cell_type": "code",
      "source": [
        "country=['Ind',\"Ch\",'Ru',\"SA\",'USA']\n",
        "popu=[140,137,30,20,30]\n",
        "plt.bar(country,popu)"
      ],
      "metadata": {
        "colab": {
          "base_uri": "https://localhost:8080/",
          "height": 282
        },
        "id": "Y2rLN37-B2_v",
        "outputId": "9f63ec84-0f09-4255-f41f-9ed17e755d3d"
      },
      "execution_count": null,
      "outputs": [
        {
          "output_type": "execute_result",
          "data": {
            "text/plain": [
              "<BarContainer object of 5 artists>"
            ]
          },
          "metadata": {},
          "execution_count": 10
        },
        {
          "output_type": "display_data",
          "data": {
            "text/plain": [
              "<Figure size 432x288 with 1 Axes>"
            ],
            "image/png": "[encoded data removed]"
          },
          "metadata": {
            "needs_background": "light"
          }
        }
      ]
    },
    {
      "cell_type": "code",
      "source": [
        "import matplotlib.pyplot as plt\n",
        "import pandas as pd\n",
        "import seaborn as sns\n",
        "c={'country':['Ind',\"Ch\",'Ru',\"SA\",'USA'],'popu':[140,137,30,20,30]}\n",
        "cdf=pd.DataFrame(c)\n",
        "sns.histplot(cdf['popu'])\n"
      ],
      "metadata": {
        "colab": {
          "base_uri": "https://localhost:8080/",
          "height": 296
        },
        "id": "Q6qri6J-tqbO",
        "outputId": "7245e3a1-7f3f-4307-a349-9097435a42b9"
      },
      "execution_count": null,
      "outputs": [
        {
          "output_type": "execute_result",
          "data": {
            "text/plain": [
              "<matplotlib.axes._subplots.AxesSubplot at 0x7f0358a73350>"
            ]
          },
          "metadata": {},
          "execution_count": 11
        },
        {
          "output_type": "display_data",
          "data": {
            "text/plain": [
              "<Figure size 432x288 with 1 Axes>"
            ],
            "image/png": "[encoded data removed]"
          },
          "metadata": {
            "needs_background": "light"
          }
        }
      ]
    },
    {
      "cell_type": "code",
      "source": [
        "country=['Ind',\"Ch\",'Ru',\"SA\",'USA']\n",
        "popu=[140,137,30,20,30]\n",
        "plt.barh(country,popu)"
      ],
      "metadata": {
        "colab": {
          "base_uri": "https://localhost:8080/",
          "height": 282
        },
        "id": "U48I5ITBB6Qn",
        "outputId": "4bdb1c00-fd30-4a3e-f502-bd4a3b6206ef"
      },
      "execution_count": null,
      "outputs": [
        {
          "output_type": "execute_result",
          "data": {
            "text/plain": [
              "<BarContainer object of 5 artists>"
            ]
          },
          "metadata": {},
          "execution_count": 13
        },
        {
          "output_type": "display_data",
          "data": {
            "text/plain": [
              "<Figure size 432x288 with 1 Axes>"
            ],
            "image/png": "[encoded data removed]"
          },
          "metadata": {
            "needs_background": "light"
          }
        }
      ]
    },
    {
      "cell_type": "code",
      "source": [
        "cdf['popu'].value_counts().plot(kind='bar')"
      ],
      "metadata": {
        "colab": {
          "base_uri": "https://localhost:8080/",
          "height": 291
        },
        "id": "S6oIOENcv4M4",
        "outputId": "23e5c3e8-7e89-4092-8171-d13058cbe7d5"
      },
      "execution_count": null,
      "outputs": [
        {
          "output_type": "execute_result",
          "data": {
            "text/plain": [
              "<matplotlib.axes._subplots.AxesSubplot at 0x7f035847f050>"
            ]
          },
          "metadata": {},
          "execution_count": 13
        },
        {
          "output_type": "display_data",
          "data": {
            "text/plain": [
              "<Figure size 432x288 with 1 Axes>"
            ],
            "image/png": "[encoded data removed]"
          },
          "metadata": {
            "needs_background": "light"
          }
        }
      ]
    },
    {
      "cell_type": "code",
      "source": [
        "##Given a dataframe with categorical values,count number of entries in each category and draw a bar plot.\n",
        "import pandas as pd\n",
        "import matplotlib.pyplot as plt\n",
        "import seaborn as sns\n",
        "x=pd.read_csv('/content/sample_data/mtcars (1).csv')\n",
        "x['cyl'].value_counts().plot(kind='bar', rot=0)\n",
        "plt.xlabel('cyl')\n",
        "plt.ylabel('no of counts')"
      ],
      "metadata": {
        "colab": {
          "base_uri": "https://localhost:8080/",
          "height": 296
        },
        "id": "PQERni6upvLk",
        "outputId": "fa6b2ae6-76d3-4ec2-9883-bf13efaaf8cf"
      },
      "execution_count": null,
      "outputs": [
        {
          "output_type": "execute_result",
          "data": {
            "text/plain": [
              "Text(0, 0.5, 'no of counts')"
            ]
          },
          "metadata": {},
          "execution_count": 27
        },
        {
          "output_type": "display_data",
          "data": {
            "text/plain": [
              "<Figure size 432x288 with 1 Axes>"
            ],
            "image/png": "[encoded data removed]"
          },
          "metadata": {
            "needs_background": "light"
          }
        }
      ]
    },
    {
      "cell_type": "code",
      "source": [
        "#\"Write a Python program to create bar plots with error bars on the same figure.\n",
        "#Sample Date\n",
        "#Mean velocity: 0.2474, 0.1235, 0.1737, 0.1824\n",
        "#Standard deviation of velocity: 0.3314, 0.2278, 0.2836, 0.2645\n",
        "import matplotlib.pyplot as plt\n",
        "import numpy as np\n",
        "m_vel=[0.2474, 0.1235, 0.1737, 0.1824]\n",
        "sd=[0.3314, 0.2278, 0.2836, 0.2645]\n",
        "c=len(sd)\n",
        "ind=np.arange(c)\n",
        "wid=0.35\n",
        "fig,ax=plt.subplots()\n",
        "res=ax.bar(ind,m_vel,wid,color='g',yerr=sd)\n",
        "plt.ylabel('Scores')\n",
        "plt.xlabel('Velocity')\n",
        "plt.title('Scores by Velocity')\n",
        "plt.show()"
      ],
      "metadata": {
        "colab": {
          "base_uri": "https://localhost:8080/",
          "height": 295
        },
        "id": "iLwNrcFwZdxz",
        "outputId": "9f1de35a-ae96-4ac2-8594-144fefa59c8e"
      },
      "execution_count": null,
      "outputs": [
        {
          "output_type": "display_data",
          "data": {
            "text/plain": [
              "<Figure size 432x288 with 1 Axes>"
            ],
            "image/png": "[encoded data removed]"
          },
          "metadata": {
            "needs_background": "light"
          }
        }
      ]
    },
    {
      "cell_type": "code",
      "source": [
        "import numpy as np\n",
        "import matplotlib.pyplot as plt\n",
        "import matplotlib.patches as mpatches\n",
        "\n",
        "N = 5\n",
        "men_means = (54.74, 42.35, 67.37, 58.24, 30.25)\n",
        "men_std= (4, 3, 4, 1, 5)\n",
        "\n",
        "ind = np.arange(N)  # the x locations for the groups\n",
        "width = 0.35       # the width of the bars\n",
        "\n",
        "fig, ax = plt.subplots()\n",
        "rects1 = ax.bar(ind, men_means, width, color='r', yerr=men_std)\n",
        "\n",
        "# add some text for labels, title and axes ticks\n",
        "plt.ylabel('Scores')\n",
        "plt.xlabel('Velocity')\n",
        "plt.title('Scores by Velocity')\n",
        "\n",
        "red_patch = mpatches.Patch(color='red', label='Men')\n",
        "plt.legend(handles=[red_patch])\n",
        "\n",
        "\n",
        "def autolabel(rects):\n",
        "    \"\"\"\n",
        "    Attach a text label above each bar displaying its height\n",
        "    \"\"\"\n",
        "    for rect in rects:\n",
        "       height = rect.get_height()\n",
        "       ax.text(rect.get_x() + rect.get_width()/2., 1.05*height,\n",
        "                '%d' % int(height),\n",
        "       ha='center', va='bottom')\n",
        "autolabel(rects1)\n",
        "plt.show()"
      ],
      "metadata": {
        "colab": {
          "base_uri": "https://localhost:8080/",
          "height": 295
        },
        "id": "Renb6CuKZNR1",
        "outputId": "d2f2e55f-90ef-4f65-df66-e4d5bb33c51e"
      },
      "execution_count": null,
      "outputs": [
        {
          "output_type": "display_data",
          "data": {
            "text/plain": [
              "<Figure size 432x288 with 1 Axes>"
            ],
            "image/png": "[encoded data removed]"
          },
          "metadata": {
            "needs_background": "light"
          }
        }
      ]
    },
    {
      "cell_type": "code",
      "source": [
        "#\"29.Write a Pandas program to join the two dataframes using the common column of both dataframes.\n",
        "#Student_data1:\n",
        "#student_id :s1,s2,s3,s4,s5\n",
        "#name : Danniella Fenton,Ryder Storey , Bryce Jensen, Ed Bernal , Kwame Morin\n",
        "#Marks: 200,210,190,222,199\n",
        "#Student_data2:\n",
        "#student_id :s4,s5,s6,s7,s8\n",
        "#name : Scarlette Fisher, Carla Williamson ,Dante Morse ,Kaiser William,Madeeha\n",
        "#Marks: 201,198,219,201,200\n",
        "import pandas as pd\n",
        "import numpy as np\n",
        "s1=pd.DataFrame({'s_id':['s1','s2','s3','s4','s5'],\n",
        "                 'name':['Danniella Fenton','Ryder Storey' , 'Bryce Jensen', 'Ed Bernal' , 'Kwame Morin'],\n",
        "                 'marks':[200,210,190,222,199]\n",
        "                 })\n",
        "s2=pd.DataFrame({'s_id':['s4','s5','s6','s7','s8'],\n",
        "                 'name':['Scarlette Fisher', 'Carla Williamson' ,'Dante Morse' ,'Kaiser William','Madeeha'],\n",
        "                 'marks':[200,210,190,222,199]})\n",
        "res=pd.concat([s1,s2])\n",
        "print(res)\n",
        "print('------------------------------')\n",
        "exam_data = pd.DataFrame({\n",
        "        's_id': ['S1', 'S2', 'S3', 'S4', 'S5', 'S7', 'S8', 'S9', 'S10', 'S11', 'S12', 'S13'],\n",
        "        'exam_id': [23, 45, 12, 67, 21, 55, 33, 14, 56, 83, 88, 12]})\n",
        "final_merged_data = pd.merge(res, exam_data, on='s_id')\n",
        "print(final_merged_data)"
      ],
      "metadata": {
        "colab": {
          "base_uri": "https://localhost:8080/"
        },
        "id": "mtcGrS0APUIB",
        "outputId": "2777a08a-7ce6-4ce2-acf4-03f6300fe76f"
      },
      "execution_count": null,
      "outputs": [
        {
          "output_type": "stream",
          "name": "stdout",
          "text": [
            "  s_id              name  marks\n",
            "0   s1  Danniella Fenton    200\n",
            "1   s2      Ryder Storey    210\n",
            "2   s3      Bryce Jensen    190\n",
            "3   s4         Ed Bernal    222\n",
            "4   s5       Kwame Morin    199\n",
            "0   s4  Scarlette Fisher    200\n",
            "1   s5  Carla Williamson    210\n",
            "2   s6       Dante Morse    190\n",
            "3   s7    Kaiser William    222\n",
            "4   s8           Madeeha    199\n",
            "------------------------------\n",
            "Empty DataFrame\n",
            "Columns: [s_id, name, marks, exam_id]\n",
            "Index: []\n"
          ]
        }
      ]
    },
    {
      "cell_type": "code",
      "source": [
        "#\"29.Write a Pandas program to join the two dataframes using the common column of both dataframes.\n",
        "s1={'names':['abc','def','pqr','xyz'],\n",
        "    's_id':['s1','s2','s3','s4'],\n",
        "    'marks':[98,87,76,65]}\n",
        "df1=pd.DataFrame(s1)\n",
        "s2={'names':['dfdg','sfdsf','rtery','vbvcv'],\n",
        "    's_id':['s5','s6','s7','s8'],\n",
        "    'marks':[98,87,76,65]}\n",
        "df2=pd.DataFrame(s2)\n",
        "res=pd.concat([df1,df2])\n",
        "s3={\n",
        "    's_id':['s1','s8','s11','s12','s2','s3','s4','s5','s6','s7'],\n",
        "    'marks':[98,87,76,65,45,23,34,45,56,67]}\n",
        "df3=pd.DataFrame(s3)\n",
        "fm=pd.merge(res,df3, on='s_id')\n",
        "fm\n"
      ],
      "metadata": {
        "colab": {
          "base_uri": "https://localhost:8080/",
          "height": 300
        },
        "id": "0dOno0nd0Mg6",
        "outputId": "524a1ce2-0825-432b-c43c-837f099a9841"
      },
      "execution_count": null,
      "outputs": [
        {
          "output_type": "execute_result",
          "data": {
            "text/plain": [
              "   names s_id  marks_x  marks_y\n",
              "0    abc   s1       98       98\n",
              "1    def   s2       87       45\n",
              "2    pqr   s3       76       23\n",
              "3    xyz   s4       65       34\n",
              "4   dfdg   s5       98       45\n",
              "5  sfdsf   s6       87       56\n",
              "6  rtery   s7       76       67\n",
              "7  vbvcv   s8       65       87"
            ],
            "text/html": [
              "\n",
              "  <div id=\"df-6f8c9416-cba3-436e-b3dd-34e20cb0e002\">\n",
              "    <div class=\"colab-df-container\">\n",
              "      <div>\n",
              "<style scoped>\n",
              "    .dataframe tbody tr th:only-of-type {\n",
              "        vertical-align: middle;\n",
              "    }\n",
              "\n",
              "    .dataframe tbody tr th {\n",
              "        vertical-align: top;\n",
              "    }\n",
              "\n",
              "    .dataframe thead th {\n",
              "        text-align: right;\n",
              "    }\n",
              "</style>\n",
              "<table border=\"1\" class=\"dataframe\">\n",
              "  <thead>\n",
              "    <tr style=\"text-align: right;\">\n",
              "      <th></th>\n",
              "      <th>names</th>\n",
              "      <th>s_id</th>\n",
              "      <th>marks_x</th>\n",
              "      <th>marks_y</th>\n",
              "    </tr>\n",
              "  </thead>\n",
              "  <tbody>\n",
              "    <tr>\n",
              "      <th>0</th>\n",
              "      <td>abc</td>\n",
              "      <td>s1</td>\n",
              "      <td>98</td>\n",
              "      <td>98</td>\n",
              "    </tr>\n",
              "    <tr>\n",
              "      <th>1</th>\n",
              "      <td>def</td>\n",
              "      <td>s2</td>\n",
              "      <td>87</td>\n",
              "      <td>45</td>\n",
              "    </tr>\n",
              "    <tr>\n",
              "      <th>2</th>\n",
              "      <td>pqr</td>\n",
              "      <td>s3</td>\n",
              "      <td>76</td>\n",
              "      <td>23</td>\n",
              "    </tr>\n",
              "    <tr>\n",
              "      <th>3</th>\n",
              "      <td>xyz</td>\n",
              "      <td>s4</td>\n",
              "      <td>65</td>\n",
              "      <td>34</td>\n",
              "    </tr>\n",
              "    <tr>\n",
              "      <th>4</th>\n",
              "      <td>dfdg</td>\n",
              "      <td>s5</td>\n",
              "      <td>98</td>\n",
              "      <td>45</td>\n",
              "    </tr>\n",
              "    <tr>\n",
              "      <th>5</th>\n",
              "      <td>sfdsf</td>\n",
              "      <td>s6</td>\n",
              "      <td>87</td>\n",
              "      <td>56</td>\n",
              "    </tr>\n",
              "    <tr>\n",
              "      <th>6</th>\n",
              "      <td>rtery</td>\n",
              "      <td>s7</td>\n",
              "      <td>76</td>\n",
              "      <td>67</td>\n",
              "    </tr>\n",
              "    <tr>\n",
              "      <th>7</th>\n",
              "      <td>vbvcv</td>\n",
              "      <td>s8</td>\n",
              "      <td>65</td>\n",
              "      <td>87</td>\n",
              "    </tr>\n",
              "  </tbody>\n",
              "</table>\n",
              "</div>\n",
              "      <button class=\"colab-df-convert\" onclick=\"convertToInteractive('df-6f8c9416-cba3-436e-b3dd-34e20cb0e002')\"\n",
              "              title=\"Convert this dataframe to an interactive table.\"\n",
              "              style=\"display:none;\">\n",
              "        \n",
              "  <svg xmlns=\"http://www.w3.org/2000/svg\" height=\"24px\"viewBox=\"0 0 24 24\"\n",
              "       width=\"24px\">\n",
              "    <path d=\"M0 0h24v24H0V0z\" fill=\"none\"/>\n",
              "    <path d=\"M18.56 5.44l.94 2.06.94-2.06 2.06-.94-2.06-.94-.94-2.06-.94 2.06-2.06.94zm-11 1L8.5 8.5l.94-2.06 2.06-.94-2.06-.94L8.5 2.5l-.94 2.06-2.06.94zm10 10l.94 2.06.94-2.06 2.06-.94-2.06-.94-.94-2.06-.94 2.06-2.06.94z\"/><path d=\"M17.41 7.96l-1.37-1.37c-.4-.4-.92-.59-1.43-.59-.52 0-1.04.2-1.43.59L10.3 9.45l-7.72 7.72c-.78.78-.78 2.05 0 2.83L4 21.41c.39.39.9.59 1.41.59.51 0 1.02-.2 1.41-.59l7.78-7.78 2.81-2.81c.8-.78.8-2.07 0-2.86zM5.41 20L4 18.59l7.72-7.72 1.47 1.35L5.41 20z\"/>\n",
              "  </svg>\n",
              "      </button>\n",
              "      \n",
              "  <style>\n",
              "    .colab-df-container {\n",
              "      display:flex;\n",
              "      flex-wrap:wrap;\n",
              "      gap: 12px;\n",
              "    }\n",
              "\n",
              "    .colab-df-convert {\n",
              "      background-color: #E8F0FE;\n",
              "      border: none;\n",
              "      border-radius: 50%;\n",
              "      cursor: pointer;\n",
              "      display: none;\n",
              "      fill: #1967D2;\n",
              "      height: 32px;\n",
              "      padding: 0 0 0 0;\n",
              "      width: 32px;\n",
              "    }\n",
              "\n",
              "    .colab-df-convert:hover {\n",
              "      background-color: #E2EBFA;\n",
              "      box-shadow: 0px 1px 2px rgba(60, 64, 67, 0.3), 0px 1px 3px 1px rgba(60, 64, 67, 0.15);\n",
              "      fill: #174EA6;\n",
              "    }\n",
              "\n",
              "    [theme=dark] .colab-df-convert {\n",
              "      background-color: #3B4455;\n",
              "      fill: #D2E3FC;\n",
              "    }\n",
              "\n",
              "    [theme=dark] .colab-df-convert:hover {\n",
              "      background-color: #434B5C;\n",
              "      box-shadow: 0px 1px 3px 1px rgba(0, 0, 0, 0.15);\n",
              "      filter: drop-shadow(0px 1px 2px rgba(0, 0, 0, 0.3));\n",
              "      fill: #FFFFFF;\n",
              "    }\n",
              "  </style>\n",
              "\n",
              "      <script>\n",
              "        const buttonEl =\n",
              "          document.querySelector('#df-6f8c9416-cba3-436e-b3dd-34e20cb0e002 button.colab-df-convert');\n",
              "        buttonEl.style.display =\n",
              "          google.colab.kernel.accessAllowed ? 'block' : 'none';\n",
              "\n",
              "        async function convertToInteractive(key) {\n",
              "          const element = document.querySelector('#df-6f8c9416-cba3-436e-b3dd-34e20cb0e002');\n",
              "          const dataTable =\n",
              "            await google.colab.kernel.invokeFunction('convertToInteractive',\n",
              "                                                     [key], {});\n",
              "          if (!dataTable) return;\n",
              "\n",
              "          const docLinkHtml = 'Like what you see? Visit the ' +\n",
              "            '<a target=\"_blank\" href=https://colab.research.google.com/notebooks/data_table.ipynb>data table notebook</a>'\n",
              "            + ' to learn more about interactive tables.';\n",
              "          element.innerHTML = '';\n",
              "          dataTable['output_type'] = 'display_data';\n",
              "          await google.colab.output.renderOutput(dataTable, element);\n",
              "          const docLink = document.createElement('div');\n",
              "          docLink.innerHTML = docLinkHtml;\n",
              "          element.appendChild(docLink);\n",
              "        }\n",
              "      </script>\n",
              "    </div>\n",
              "  </div>\n",
              "  "
            ]
          },
          "metadata": {},
          "execution_count": 37
        }
      ]
    },
    {
      "cell_type": "code",
      "source": [
        "#\"Draw a vertical bar chart with Matplotlib? x=['one', 'two', 'three', 'four', 'five'], y=[5, 24, 35, 67, 12]\n",
        "x=['one', 'two', 'three', 'four', 'five']\n",
        "y=[5, 24, 35, 67, 12]\n",
        "plt.bar(x,y)"
      ],
      "metadata": {
        "colab": {
          "base_uri": "https://localhost:8080/",
          "height": 285
        },
        "id": "0bfEgOWoRUSB",
        "outputId": "842bb412-5dc8-4b43-b1c7-c7da13629304"
      },
      "execution_count": null,
      "outputs": [
        {
          "output_type": "execute_result",
          "data": {
            "text/plain": [
              "<BarContainer object of 5 artists>"
            ]
          },
          "metadata": {},
          "execution_count": 38
        },
        {
          "output_type": "display_data",
          "data": {
            "text/plain": [
              "<Figure size 432x288 with 1 Axes>"
            ],
            "image/png": "[encoded data removed]"
          },
          "metadata": {
            "needs_background": "light"
          }
        }
      ]
    },
    {
      "cell_type": "code",
      "source": [
        "#Write a Pandas program to convert a Panda module Series to Python list and it’s type.\n",
        "x=pd.Series([1,2,3,4,5,6])\n",
        "print(x)\n",
        "print(type(x))\n",
        "y=x.tolist()\n",
        "print(y)\n",
        "print(type(y))\n"
      ],
      "metadata": {
        "colab": {
          "base_uri": "https://localhost:8080/"
        },
        "id": "-eJ1CzPkSi6h",
        "outputId": "56d79c0c-70cd-4dba-a484-50f1f1c12ebc"
      },
      "execution_count": null,
      "outputs": [
        {
          "output_type": "stream",
          "name": "stdout",
          "text": [
            "0    1\n",
            "1    2\n",
            "2    3\n",
            "3    4\n",
            "4    5\n",
            "5    6\n",
            "dtype: int64\n",
            "<class 'pandas.core.series.Series'>\n",
            "[1, 2, 3, 4, 5, 6]\n",
            "<class 'list'>\n"
          ]
        }
      ]
    },
    {
      "cell_type": "code",
      "source": [
        "#Draw a line chart using Matplotlib.\n",
        "c=['United States','Great Britain','China','Russia','Germany']\n",
        "m=[46,27,26,19,17]\n",
        "plt.plot(c,m)\n",
        "plt.show()"
      ],
      "metadata": {
        "colab": {
          "base_uri": "https://localhost:8080/",
          "height": 265
        },
        "id": "m7E7R8DNVAcm",
        "outputId": "af3835ac-0dca-4073-e09d-82862a0d3227"
      },
      "execution_count": null,
      "outputs": [
        {
          "output_type": "display_data",
          "data": {
            "text/plain": [
              "<Figure size 432x288 with 1 Axes>"
            ],
            "image/png": "[encoded data removed]"
          },
          "metadata": {
            "needs_background": "light"
          }
        }
      ]
    },
    {
      "cell_type": "code",
      "source": [
        "#\"Write a Python programming to create a pie chart of gold medal achievements of\n",
        "#five most successful countries in 2016 Summer Olympics. Read the data from a\n",
        "#csv file.\n",
        "#Sample data:\n",
        "#medal.csv\n",
        "#country,gold_medal\n",
        "#United States,46\n",
        "#Great Britain,27\n",
        "#China,26\n",
        "#Russia,19\n",
        "#Germany,17\"\n",
        "c=['United States','Great Britain','China','Russia','Germany']\n",
        "m=[46,27,26,19,17]\n",
        "plt.pie(m,labels=c,autopct='%.2f',explode=[0.1,0,0,0,0])\n",
        "plt.show()"
      ],
      "metadata": {
        "colab": {
          "base_uri": "https://localhost:8080/",
          "height": 248
        },
        "id": "C54EngYST5oq",
        "outputId": "502e8281-6df1-45e5-f1ec-a0cd34e41feb"
      },
      "execution_count": null,
      "outputs": [
        {
          "output_type": "display_data",
          "data": {
            "text/plain": [
              "<Figure size 432x288 with 1 Axes>"
            ],
            "image/png": "[encoded data removed]"
          },
          "metadata": {}
        }
      ]
    },
    {
      "cell_type": "code",
      "source": [
        "#\"Write a Python programming to create a pie chart of gold medal achievements of\n",
        "#five most successful countries in 2016 Summer Olympics. Read the data from a\n",
        "#csv file.\n",
        "#Sample data:\n",
        "#medal.csv\n",
        "#country,gold_medal\n",
        "#United States,46\n",
        "#Great Britain,27\n",
        "#China,26\n",
        "#Russia,19\n",
        "#Germany,17\"\n",
        "x=pd.read_csv('/content/sample_data/goldmedals.txt')\n",
        "plt.pie(x['medals'],labels=x['countries'],autopct='%.2f')\n",
        "plt.show()"
      ],
      "metadata": {
        "colab": {
          "base_uri": "https://localhost:8080/",
          "height": 248
        },
        "id": "NbiSxNtJVLG6",
        "outputId": "49315b86-4a78-4d12-cee8-d049d45f2078"
      },
      "execution_count": null,
      "outputs": [
        {
          "output_type": "display_data",
          "data": {
            "text/plain": [
              "<Figure size 432x288 with 1 Axes>"
            ],
            "image/png": "[encoded data removed]"
          },
          "metadata": {}
        }
      ]
    },
    {
      "cell_type": "code",
      "source": [
        "#Write a Pandas program to get the first 3 rows of a given DataFrame.\n",
        "stu=[{'name':'rajitha','age':30,'gender':'F'},\n",
        "     {'name':'abc','age':20,'gender':'M'},\n",
        "     {'name':'xyz','age':10,'gender':'F'},\n",
        "     {'name':'pqr','age':3,'gender':'M'},\n",
        "     {'name':'def','age':15,'gender':'F'}\n",
        "     ]\n",
        "x=pd.DataFrame(stu)\n",
        "print(x)\n",
        "print('-------------------')\n",
        "print(x.head(3))"
      ],
      "metadata": {
        "colab": {
          "base_uri": "https://localhost:8080/"
        },
        "id": "CqXTWujNXKEB",
        "outputId": "75b36827-f808-4109-c91e-139b5ac08094"
      },
      "execution_count": null,
      "outputs": [
        {
          "output_type": "stream",
          "name": "stdout",
          "text": [
            "      name  age gender\n",
            "0  rajitha   30      F\n",
            "1      abc   20      M\n",
            "2      xyz   10      F\n",
            "3      pqr    3      M\n",
            "4      def   15      F\n",
            "-------------------\n",
            "      name  age gender\n",
            "0  rajitha   30      F\n",
            "1      abc   20      M\n",
            "2      xyz   10      F\n"
          ]
        }
      ]
    },
    {
      "cell_type": "code",
      "source": [
        "#\"Brands:maruti,hyundai,tata,mahindra,maruti,hyundai,renault,tata,maruti\n",
        "#Year:2012,2014,2011,2015,2012,2016,2014,2018,2019\n",
        "#Mileage:28,27,25,26,28,29,24,21,24\n",
        "#1.update values of Mileage as 22 if Year < 2015\n",
        "#2.display cars with brand 'Maruti' and Mileage > 25\n",
        "#(use loc)\"\n",
        "x={'Brands':['maruti','hyundai','tata','mahindra','maruti','hyundai','renault','tata','maruti'],\n",
        "    'year':[2012,2014,2011,2015,2012,2016,2014,2018,2019],\n",
        "    'mil':[28,27,25,26,28,29,24,21,24]}\n",
        "df=pd.DataFrame(x)\n",
        "print(df)\n",
        "print('-----------------------')\n",
        "for j,i in enumerate(df['year']):\n",
        "  if i<2015:\n",
        "    df['mil'][j]=22\n",
        "for j,i in enumerate(df['mil']):\n",
        "  if i>25:\n",
        "    df['Brands'][j]='Maruthi'\n",
        "print(df)"
      ],
      "metadata": {
        "colab": {
          "base_uri": "https://localhost:8080/"
        },
        "id": "B8J1wpYvZyVL",
        "outputId": "c2dd8d2a-65e8-4ff0-96f5-70797bf078b8"
      },
      "execution_count": null,
      "outputs": [
        {
          "output_type": "stream",
          "name": "stdout",
          "text": [
            "     Brands  year  mil\n",
            "0    maruti  2012   28\n",
            "1   hyundai  2014   27\n",
            "2      tata  2011   25\n",
            "3  mahindra  2015   26\n",
            "4    maruti  2012   28\n",
            "5   hyundai  2016   29\n",
            "6   renault  2014   24\n",
            "7      tata  2018   21\n",
            "8    maruti  2019   24\n",
            "-----------------------\n",
            "    Brands  year  mil\n",
            "0   maruti  2012   22\n",
            "1  hyundai  2014   22\n",
            "2     tata  2011   22\n",
            "3  Maruthi  2015   26\n",
            "4   maruti  2012   22\n",
            "5  Maruthi  2016   29\n",
            "6  renault  2014   22\n",
            "7     tata  2018   21\n",
            "8   maruti  2019   24\n"
          ]
        },
        {
          "output_type": "stream",
          "name": "stderr",
          "text": [
            "/usr/local/lib/python3.7/dist-packages/ipykernel_launcher.py:15: SettingWithCopyWarning: \n",
            "A value is trying to be set on a copy of a slice from a DataFrame\n",
            "\n",
            "See the caveats in the documentation: https://pandas.pydata.org/pandas-docs/stable/user_guide/indexing.html#returning-a-view-versus-a-copy\n",
            "  from ipykernel import kernelapp as app\n",
            "/usr/local/lib/python3.7/dist-packages/ipykernel_launcher.py:18: SettingWithCopyWarning: \n",
            "A value is trying to be set on a copy of a slice from a DataFrame\n",
            "\n",
            "See the caveats in the documentation: https://pandas.pydata.org/pandas-docs/stable/user_guide/indexing.html#returning-a-view-versus-a-copy\n"
          ]
        }
      ]
    },
    {
      "cell_type": "code",
      "source": [
        "#Write a Pandas program to compute difference of differences between consecutive numbers of a given series.\" 2 4 6 10\n",
        "s=[12,32,11,45,65,34]\n",
        "ps=pd.Series(s)\n",
        "print(ps.diff().tolist())\n",
        "print(ps.diff().diff().tolist())"
      ],
      "metadata": {
        "colab": {
          "base_uri": "https://localhost:8080/"
        },
        "id": "CZMB1fg1cWo7",
        "outputId": "972d9c8c-3ccd-4865-8666-468b7cb7b02d"
      },
      "execution_count": null,
      "outputs": [
        {
          "output_type": "stream",
          "name": "stdout",
          "text": [
            "[nan, 20.0, -21.0, 34.0, 20.0, -31.0]\n",
            "[nan, nan, -41.0, 55.0, -14.0, -51.0]\n"
          ]
        }
      ]
    },
    {
      "cell_type": "code",
      "source": [
        "#How can we convert a Series to a DataFrame?\n",
        "x=pd.Series([1,2,3,4,5])\n",
        "print(x,type(x))\n",
        "y=pd.DataFrame(x)\n",
        "print(y,type(y))"
      ],
      "metadata": {
        "colab": {
          "base_uri": "https://localhost:8080/"
        },
        "id": "q1vlj-Esgcfi",
        "outputId": "97b30c3f-a83f-42f8-c7fa-85e8ef1d535a"
      },
      "execution_count": null,
      "outputs": [
        {
          "output_type": "stream",
          "name": "stdout",
          "text": [
            "0    1\n",
            "1    2\n",
            "2    3\n",
            "3    4\n",
            "4    5\n",
            "dtype: int64 <class 'pandas.core.series.Series'>\n",
            "   0\n",
            "0  1\n",
            "1  2\n",
            "2  3\n",
            "3  4\n",
            "4  5 <class 'pandas.core.frame.DataFrame'>\n"
          ]
        }
      ]
    },
    {
      "cell_type": "code",
      "source": [
        "#Write a Python programming to display a bar chart of the percentages of students.\n",
        "stu=['a','b','c','d']\n",
        "m=[45,56,78,34]\n",
        "plt.bar(stu,m)\n",
        "plt.xlabel('students')\n",
        "plt.ylabel('marks in percentage')\n",
        "plt.title('students marks')\n",
        "plt.show()"
      ],
      "metadata": {
        "colab": {
          "base_uri": "https://localhost:8080/",
          "height": 295
        },
        "id": "m7TDF-fthxWj",
        "outputId": "84131f90-38a7-4c61-bbd9-47b70691995b"
      },
      "execution_count": null,
      "outputs": [
        {
          "output_type": "display_data",
          "data": {
            "text/plain": [
              "<Figure size 432x288 with 1 Axes>"
            ],
            "image/png": "[encoded data removed]"
          },
          "metadata": {
            "needs_background": "light"
          }
        }
      ]
    },
    {
      "cell_type": "code",
      "source": [
        "#\"Write a Pandas program to filter words from a given series that contain at least two vowels\n",
        "#Series:\n",
        "#0 Red\n",
        "#1 Green\n",
        "#2 Orange\n",
        "#3 Pink\n",
        "#4 Yellow\n",
        "#5 White\n",
        "#6 Brown\n",
        "#7 maroon\n",
        "import pandas as pd\n",
        "from collections import Counter\n",
        "color_series = pd.Series(['Red','Green','Orange','Pink','Yellow','White','Brown','maroon'])\n",
        "result = color_series.map(lambda c: sum([Counter(c.lower()).get(i, 0) for i in list('aeiou')]) >= 2)\n",
        "print(color_series[result])"
      ],
      "metadata": {
        "colab": {
          "base_uri": "https://localhost:8080/"
        },
        "id": "wEmJjnZoj7_D",
        "outputId": "cd3dee5a-d888-4c0e-fe1a-d6cec3a02354"
      },
      "execution_count": null,
      "outputs": [
        {
          "output_type": "stream",
          "name": "stdout",
          "text": [
            "1     Green\n",
            "2    Orange\n",
            "4    Yellow\n",
            "5     White\n",
            "7    maroon\n",
            "dtype: object\n"
          ]
        }
      ]
    },
    {
      "cell_type": "code",
      "source": [
        "s=['Red','Green','Orange','Pink','Yellow','White','Brown','maroon']\n",
        "v='aeiouAEIOU'\n",
        "for i in s:\n",
        "  c=0\n",
        "  for j in i:\n",
        "    if j in v:\n",
        "      c=c+1\n",
        "  if c>=2:\n",
        "    print(i)"
      ],
      "metadata": {
        "colab": {
          "base_uri": "https://localhost:8080/"
        },
        "id": "EURmBenM8Z2y",
        "outputId": "d7d361d8-4528-4bbb-d294-385f89bc645c"
      },
      "execution_count": null,
      "outputs": [
        {
          "output_type": "stream",
          "name": "stdout",
          "text": [
            "Green\n",
            "Orange\n",
            "Yellow\n",
            "White\n",
            "maroon\n"
          ]
        }
      ]
    },
    {
      "cell_type": "code",
      "source": [
        "#Write a Pandas program to create a date from a given year, month, day and another date from a given string formats.\n",
        "from datetime import datetime\n",
        "date1 = datetime(year=2020, month=12, day=25)\n",
        "print(\"Date from a given year, month, day:\")\n",
        "print(date1)\n",
        "from dateutil import parser\n",
        "date2 = parser.parse(\"1st of January, 2021\")\n",
        "print(\"\\nDate from a given string formats:\")\n",
        "print(date2)"
      ],
      "metadata": {
        "colab": {
          "base_uri": "https://localhost:8080/"
        },
        "id": "pAF-cOhilZ4Y",
        "outputId": "b282a397-359c-4a72-f688-689ac59e5e5d"
      },
      "execution_count": null,
      "outputs": [
        {
          "output_type": "stream",
          "name": "stdout",
          "text": [
            "Date from a given year, month, day:\n",
            "2020-12-25 00:00:00\n",
            "\n",
            "Date from a given string formats:\n",
            "2021-01-01 00:00:00\n"
          ]
        }
      ]
    },
    {
      "cell_type": "code",
      "source": [
        "#\"Write a Pandas program to create and display a DataFrame from a specified dictionary\n",
        "#data which has the index labels.\n",
        "#Sample DataFrame:\n",
        "#exam_data = {'name': ['Anastasia', 'Dima', 'Katherine', 'James', 'Emily', 'Michael', 'Matthew',\n",
        "#'Laura', 'Kevin', 'Jonas'],\n",
        "#'score': [12.5, 9, 16.5, np.nan, 9, 20, 14.5, np.nan, 8, 19],\n",
        "#'attempts': [1, 3, 2, 3, 2, 3, 1, 1, 2, 1],\n",
        "#'qualify': ['yes', 'no', 'yes', 'no', 'no', 'yes', 'yes', 'no', 'no', 'yes']}\n",
        "#labels = ['a', 'b', 'c', 'd', 'e', 'f', 'g', 'h', 'i', 'j']\n",
        "import numpy as np\n",
        "import pandas as pd\n",
        "df={'name': ['Anastasia', 'Dima', 'Katherine', 'James', 'Emily', 'Michael', 'Matthew','Laura', 'Kevin', 'Jonas'],\n",
        "          'score': [12.5, 9, 16.5, np.nan, 9, 20, 14.5, np.nan, 8, 19],\n",
        "          'attempts': [1, 3, 2, 3, 2, 3, 1, 1, 2, 1],\n",
        "          'qualify': ['yes', 'no', 'yes', 'no', 'no', 'yes', 'yes', 'no', 'no', 'yes']}\n",
        "labels = ['a', 'b', 'c', 'd', 'e', 'f', 'g', 'h', 'i', 'j']\n",
        "pd.DataFrame(df,index=labels)"
      ],
      "metadata": {
        "colab": {
          "base_uri": "https://localhost:8080/",
          "height": 363
        },
        "id": "76_Q5uPJmwyN",
        "outputId": "ff8e2a84-8e15-4e19-8c79-c40b3a83bb18"
      },
      "execution_count": null,
      "outputs": [
        {
          "output_type": "execute_result",
          "data": {
            "text/plain": [
              "        name  score  attempts qualify\n",
              "a  Anastasia   12.5         1     yes\n",
              "b       Dima    9.0         3      no\n",
              "c  Katherine   16.5         2     yes\n",
              "d      James    NaN         3      no\n",
              "e      Emily    9.0         2      no\n",
              "f    Michael   20.0         3     yes\n",
              "g    Matthew   14.5         1     yes\n",
              "h      Laura    NaN         1      no\n",
              "i      Kevin    8.0         2      no\n",
              "j      Jonas   19.0         1     yes"
            ],
            "text/html": [
              "\n",
              "  <div id=\"df-f85f0f57-54c8-48ac-b8d5-d92b2799594b\">\n",
              "    <div class=\"colab-df-container\">\n",
              "      <div>\n",
              "<style scoped>\n",
              "    .dataframe tbody tr th:only-of-type {\n",
              "        vertical-align: middle;\n",
              "    }\n",
              "\n",
              "    .dataframe tbody tr th {\n",
              "        vertical-align: top;\n",
              "    }\n",
              "\n",
              "    .dataframe thead th {\n",
              "        text-align: right;\n",
              "    }\n",
              "</style>\n",
              "<table border=\"1\" class=\"dataframe\">\n",
              "  <thead>\n",
              "    <tr style=\"text-align: right;\">\n",
              "      <th></th>\n",
              "      <th>name</th>\n",
              "      <th>score</th>\n",
              "      <th>attempts</th>\n",
              "      <th>qualify</th>\n",
              "    </tr>\n",
              "  </thead>\n",
              "  <tbody>\n",
              "    <tr>\n",
              "      <th>a</th>\n",
              "      <td>Anastasia</td>\n",
              "      <td>12.5</td>\n",
              "      <td>1</td>\n",
              "      <td>yes</td>\n",
              "    </tr>\n",
              "    <tr>\n",
              "      <th>b</th>\n",
              "      <td>Dima</td>\n",
              "      <td>9.0</td>\n",
              "      <td>3</td>\n",
              "      <td>no</td>\n",
              "    </tr>\n",
              "    <tr>\n",
              "      <th>c</th>\n",
              "      <td>Katherine</td>\n",
              "      <td>16.5</td>\n",
              "      <td>2</td>\n",
              "      <td>yes</td>\n",
              "    </tr>\n",
              "    <tr>\n",
              "      <th>d</th>\n",
              "      <td>James</td>\n",
              "      <td>NaN</td>\n",
              "      <td>3</td>\n",
              "      <td>no</td>\n",
              "    </tr>\n",
              "    <tr>\n",
              "      <th>e</th>\n",
              "      <td>Emily</td>\n",
              "      <td>9.0</td>\n",
              "      <td>2</td>\n",
              "      <td>no</td>\n",
              "    </tr>\n",
              "    <tr>\n",
              "      <th>f</th>\n",
              "      <td>Michael</td>\n",
              "      <td>20.0</td>\n",
              "      <td>3</td>\n",
              "      <td>yes</td>\n",
              "    </tr>\n",
              "    <tr>\n",
              "      <th>g</th>\n",
              "      <td>Matthew</td>\n",
              "      <td>14.5</td>\n",
              "      <td>1</td>\n",
              "      <td>yes</td>\n",
              "    </tr>\n",
              "    <tr>\n",
              "      <th>h</th>\n",
              "      <td>Laura</td>\n",
              "      <td>NaN</td>\n",
              "      <td>1</td>\n",
              "      <td>no</td>\n",
              "    </tr>\n",
              "    <tr>\n",
              "      <th>i</th>\n",
              "      <td>Kevin</td>\n",
              "      <td>8.0</td>\n",
              "      <td>2</td>\n",
              "      <td>no</td>\n",
              "    </tr>\n",
              "    <tr>\n",
              "      <th>j</th>\n",
              "      <td>Jonas</td>\n",
              "      <td>19.0</td>\n",
              "      <td>1</td>\n",
              "      <td>yes</td>\n",
              "    </tr>\n",
              "  </tbody>\n",
              "</table>\n",
              "</div>\n",
              "      <button class=\"colab-df-convert\" onclick=\"convertToInteractive('df-f85f0f57-54c8-48ac-b8d5-d92b2799594b')\"\n",
              "              title=\"Convert this dataframe to an interactive table.\"\n",
              "              style=\"display:none;\">\n",
              "        \n",
              "  <svg xmlns=\"http://www.w3.org/2000/svg\" height=\"24px\"viewBox=\"0 0 24 24\"\n",
              "       width=\"24px\">\n",
              "    <path d=\"M0 0h24v24H0V0z\" fill=\"none\"/>\n",
              "    <path d=\"M18.56 5.44l.94 2.06.94-2.06 2.06-.94-2.06-.94-.94-2.06-.94 2.06-2.06.94zm-11 1L8.5 8.5l.94-2.06 2.06-.94-2.06-.94L8.5 2.5l-.94 2.06-2.06.94zm10 10l.94 2.06.94-2.06 2.06-.94-2.06-.94-.94-2.06-.94 2.06-2.06.94z\"/><path d=\"M17.41 7.96l-1.37-1.37c-.4-.4-.92-.59-1.43-.59-.52 0-1.04.2-1.43.59L10.3 9.45l-7.72 7.72c-.78.78-.78 2.05 0 2.83L4 21.41c.39.39.9.59 1.41.59.51 0 1.02-.2 1.41-.59l7.78-7.78 2.81-2.81c.8-.78.8-2.07 0-2.86zM5.41 20L4 18.59l7.72-7.72 1.47 1.35L5.41 20z\"/>\n",
              "  </svg>\n",
              "      </button>\n",
              "      \n",
              "  <style>\n",
              "    .colab-df-container {\n",
              "      display:flex;\n",
              "      flex-wrap:wrap;\n",
              "      gap: 12px;\n",
              "    }\n",
              "\n",
              "    .colab-df-convert {\n",
              "      background-color: #E8F0FE;\n",
              "      border: none;\n",
              "      border-radius: 50%;\n",
              "      cursor: pointer;\n",
              "      display: none;\n",
              "      fill: #1967D2;\n",
              "      height: 32px;\n",
              "      padding: 0 0 0 0;\n",
              "      width: 32px;\n",
              "    }\n",
              "\n",
              "    .colab-df-convert:hover {\n",
              "      background-color: #E2EBFA;\n",
              "      box-shadow: 0px 1px 2px rgba(60, 64, 67, 0.3), 0px 1px 3px 1px rgba(60, 64, 67, 0.15);\n",
              "      fill: #174EA6;\n",
              "    }\n",
              "\n",
              "    [theme=dark] .colab-df-convert {\n",
              "      background-color: #3B4455;\n",
              "      fill: #D2E3FC;\n",
              "    }\n",
              "\n",
              "    [theme=dark] .colab-df-convert:hover {\n",
              "      background-color: #434B5C;\n",
              "      box-shadow: 0px 1px 3px 1px rgba(0, 0, 0, 0.15);\n",
              "      filter: drop-shadow(0px 1px 2px rgba(0, 0, 0, 0.3));\n",
              "      fill: #FFFFFF;\n",
              "    }\n",
              "  </style>\n",
              "\n",
              "      <script>\n",
              "        const buttonEl =\n",
              "          document.querySelector('#df-f85f0f57-54c8-48ac-b8d5-d92b2799594b button.colab-df-convert');\n",
              "        buttonEl.style.display =\n",
              "          google.colab.kernel.accessAllowed ? 'block' : 'none';\n",
              "\n",
              "        async function convertToInteractive(key) {\n",
              "          const element = document.querySelector('#df-f85f0f57-54c8-48ac-b8d5-d92b2799594b');\n",
              "          const dataTable =\n",
              "            await google.colab.kernel.invokeFunction('convertToInteractive',\n",
              "                                                     [key], {});\n",
              "          if (!dataTable) return;\n",
              "\n",
              "          const docLinkHtml = 'Like what you see? Visit the ' +\n",
              "            '<a target=\"_blank\" href=https://colab.research.google.com/notebooks/data_table.ipynb>data table notebook</a>'\n",
              "            + ' to learn more about interactive tables.';\n",
              "          element.innerHTML = '';\n",
              "          dataTable['output_type'] = 'display_data';\n",
              "          await google.colab.output.renderOutput(dataTable, element);\n",
              "          const docLink = document.createElement('div');\n",
              "          docLink.innerHTML = docLinkHtml;\n",
              "          element.appendChild(docLink);\n",
              "        }\n",
              "      </script>\n",
              "    </div>\n",
              "  </div>\n",
              "  "
            ]
          },
          "metadata": {},
          "execution_count": 119
        }
      ]
    },
    {
      "cell_type": "code",
      "source": [
        "from datetime import datetime\n",
        "print(datetime(year=2020, month=12, day=25))\n",
        "from dateutil import parser\n",
        "print(parser.parse('11th november,2022'))"
      ],
      "metadata": {
        "colab": {
          "base_uri": "https://localhost:8080/"
        },
        "id": "tZjZoGvll3Vx",
        "outputId": "52791c6f-97f3-46e9-de18-685b360ce2c4"
      },
      "execution_count": null,
      "outputs": [
        {
          "output_type": "stream",
          "name": "stdout",
          "text": [
            "2020-12-25 00:00:00\n",
            "2022-11-11 00:00:00\n"
          ]
        }
      ]
    },
    {
      "cell_type": "code",
      "source": [
        "#Write a Pandas program to create a time-series from a given list of dates as strings.\n",
        "import pandas as pd\n",
        "import numpy as np\n",
        "from datetime import datetime, date \n",
        "dates = ['2014-08-01','2014-08-02','2014-08-03','2014-08-04']\n",
        "time_series = pd.Series(np.random.randn(4), dates)\n",
        "print(time_series)"
      ],
      "metadata": {
        "colab": {
          "base_uri": "https://localhost:8080/"
        },
        "id": "6SeEFdG5n2Br",
        "outputId": "4252a0fd-ebf3-489d-ab4a-0801508567b4"
      },
      "execution_count": null,
      "outputs": [
        {
          "output_type": "stream",
          "name": "stdout",
          "text": [
            "2014-08-01    0.914417\n",
            "2014-08-02   -0.188767\n",
            "2014-08-03    0.093788\n",
            "2014-08-04   -1.639188\n",
            "dtype: float64\n"
          ]
        }
      ]
    },
    {
      "cell_type": "code",
      "source": [
        "#Given a list of marks, create a pandas series\n",
        "m=[98.23,45,67,32]\n",
        "print(pd.Series(m))"
      ],
      "metadata": {
        "colab": {
          "base_uri": "https://localhost:8080/"
        },
        "id": "hTGIbjEHorwR",
        "outputId": "c095c991-7c50-45eb-fbea-e9cae54f4242"
      },
      "execution_count": null,
      "outputs": [
        {
          "output_type": "stream",
          "name": "stdout",
          "text": [
            "0    98.23\n",
            "1    45.00\n",
            "2    67.00\n",
            "3    32.00\n",
            "dtype: float64\n"
          ]
        }
      ]
    },
    {
      "cell_type": "code",
      "source": [
        "#\"Write a Python programming to display a bar chart of the popularity of programming Languages.\n",
        "#Use different color for each bar\n",
        "pl=['c','java','python','sql']\n",
        "popu=[60,50,80,75]\n",
        "plt.bar(pl,popu,color=['r','g','b','k'])\n",
        "plt.show()"
      ],
      "metadata": {
        "colab": {
          "base_uri": "https://localhost:8080/",
          "height": 265
        },
        "id": "My2nSCSippYB",
        "outputId": "5c50e703-0359-4e77-de01-d495db30f0d7"
      },
      "execution_count": null,
      "outputs": [
        {
          "output_type": "display_data",
          "data": {
            "text/plain": [
              "<Figure size 432x288 with 1 Axes>"
            ],
            "image/png": "[encoded data removed]"
          },
          "metadata": {
            "needs_background": "light"
          }
        }
      ]
    },
    {
      "cell_type": "code",
      "source": [
        "#Given a dataframe get only the index and column names.\n",
        "df={'name': ['Anastasia', 'Dima', 'Katherine', 'James', 'Emily', 'Michael', 'Matthew','Laura', 'Kevin', 'Jonas'],\n",
        "          'score': [12.5, 9, 16.5, np.nan, 9, 20, 14.5, np.nan, 8, 19],\n",
        "          'attempts': [1, 3, 2, 3, 2, 3, 1, 1, 2, 1],\n",
        "          'qualify': ['yes', 'no', 'yes', 'no', 'no', 'yes', 'yes', 'no', 'no', 'yes']}\n",
        "labels = ['a', 'b', 'c', 'd', 'e', 'f', 'g', 'h', 'i', 'j']\n",
        "print(pd.DataFrame(df,index=labels))\n",
        "print('--------------------------')\n",
        "x=pd.DataFrame(df,index=labels)\n",
        "print(x.columns,'\\n',x.index)"
      ],
      "metadata": {
        "colab": {
          "base_uri": "https://localhost:8080/"
        },
        "id": "JZLcpTemqwOa",
        "outputId": "9bf68d51-a47b-45d5-9008-3d4311b8cd3b"
      },
      "execution_count": null,
      "outputs": [
        {
          "output_type": "stream",
          "name": "stdout",
          "text": [
            "        name  score  attempts qualify\n",
            "a  Anastasia   12.5         1     yes\n",
            "b       Dima    9.0         3      no\n",
            "c  Katherine   16.5         2     yes\n",
            "d      James    NaN         3      no\n",
            "e      Emily    9.0         2      no\n",
            "f    Michael   20.0         3     yes\n",
            "g    Matthew   14.5         1     yes\n",
            "h      Laura    NaN         1      no\n",
            "i      Kevin    8.0         2      no\n",
            "j      Jonas   19.0         1     yes\n",
            "--------------------------\n",
            "Index(['name', 'score', 'attempts', 'qualify'], dtype='object') \n",
            " Index(['a', 'b', 'c', 'd', 'e', 'f', 'g', 'h', 'i', 'j'], dtype='object')\n"
          ]
        }
      ]
    },
    {
      "cell_type": "code",
      "source": [
        "#write a progarm to split a string column in a DataFrame into two columns?\n",
        "x={'names':['Rajitha Ramineni','shanaya varma','nandan varma']}\n",
        "df=pd.DataFrame(x)\n",
        "print(df)\n",
        "print('--------------------')\n",
        "new=df['names'].str.split(' ',expand=True)\n",
        "df[\"First Name\"]= new[0]\n",
        "df[\"Last Name\"]= new[1]\n",
        "df.drop(columns =[\"names\"], inplace = True)\n",
        "df"
      ],
      "metadata": {
        "colab": {
          "base_uri": "https://localhost:8080/",
          "height": 230
        },
        "id": "L_wCgaIzt5gF",
        "outputId": "2f73b47f-d7df-4918-d054-9a176df6dff1"
      },
      "execution_count": null,
      "outputs": [
        {
          "output_type": "stream",
          "name": "stdout",
          "text": [
            "              names\n",
            "0  Rajitha Ramineni\n",
            "1     shanaya varma\n",
            "2      nandan varma\n",
            "--------------------\n"
          ]
        },
        {
          "output_type": "execute_result",
          "data": {
            "text/plain": [
              "  First Name Last Name\n",
              "0    Rajitha  Ramineni\n",
              "1    shanaya     varma\n",
              "2     nandan     varma"
            ],
            "text/html": [
              "\n",
              "  <div id=\"df-cbd392ca-eb4f-49b7-bb5d-2a60e0dd9b42\">\n",
              "    <div class=\"colab-df-container\">\n",
              "      <div>\n",
              "<style scoped>\n",
              "    .dataframe tbody tr th:only-of-type {\n",
              "        vertical-align: middle;\n",
              "    }\n",
              "\n",
              "    .dataframe tbody tr th {\n",
              "        vertical-align: top;\n",
              "    }\n",
              "\n",
              "    .dataframe thead th {\n",
              "        text-align: right;\n",
              "    }\n",
              "</style>\n",
              "<table border=\"1\" class=\"dataframe\">\n",
              "  <thead>\n",
              "    <tr style=\"text-align: right;\">\n",
              "      <th></th>\n",
              "      <th>First Name</th>\n",
              "      <th>Last Name</th>\n",
              "    </tr>\n",
              "  </thead>\n",
              "  <tbody>\n",
              "    <tr>\n",
              "      <th>0</th>\n",
              "      <td>Rajitha</td>\n",
              "      <td>Ramineni</td>\n",
              "    </tr>\n",
              "    <tr>\n",
              "      <th>1</th>\n",
              "      <td>shanaya</td>\n",
              "      <td>varma</td>\n",
              "    </tr>\n",
              "    <tr>\n",
              "      <th>2</th>\n",
              "      <td>nandan</td>\n",
              "      <td>varma</td>\n",
              "    </tr>\n",
              "  </tbody>\n",
              "</table>\n",
              "</div>\n",
              "      <button class=\"colab-df-convert\" onclick=\"convertToInteractive('df-cbd392ca-eb4f-49b7-bb5d-2a60e0dd9b42')\"\n",
              "              title=\"Convert this dataframe to an interactive table.\"\n",
              "              style=\"display:none;\">\n",
              "        \n",
              "  <svg xmlns=\"http://www.w3.org/2000/svg\" height=\"24px\"viewBox=\"0 0 24 24\"\n",
              "       width=\"24px\">\n",
              "    <path d=\"M0 0h24v24H0V0z\" fill=\"none\"/>\n",
              "    <path d=\"M18.56 5.44l.94 2.06.94-2.06 2.06-.94-2.06-.94-.94-2.06-.94 2.06-2.06.94zm-11 1L8.5 8.5l.94-2.06 2.06-.94-2.06-.94L8.5 2.5l-.94 2.06-2.06.94zm10 10l.94 2.06.94-2.06 2.06-.94-2.06-.94-.94-2.06-.94 2.06-2.06.94z\"/><path d=\"M17.41 7.96l-1.37-1.37c-.4-.4-.92-.59-1.43-.59-.52 0-1.04.2-1.43.59L10.3 9.45l-7.72 7.72c-.78.78-.78 2.05 0 2.83L4 21.41c.39.39.9.59 1.41.59.51 0 1.02-.2 1.41-.59l7.78-7.78 2.81-2.81c.8-.78.8-2.07 0-2.86zM5.41 20L4 18.59l7.72-7.72 1.47 1.35L5.41 20z\"/>\n",
              "  </svg>\n",
              "      </button>\n",
              "      \n",
              "  <style>\n",
              "    .colab-df-container {\n",
              "      display:flex;\n",
              "      flex-wrap:wrap;\n",
              "      gap: 12px;\n",
              "    }\n",
              "\n",
              "    .colab-df-convert {\n",
              "      background-color: #E8F0FE;\n",
              "      border: none;\n",
              "      border-radius: 50%;\n",
              "      cursor: pointer;\n",
              "      display: none;\n",
              "      fill: #1967D2;\n",
              "      height: 32px;\n",
              "      padding: 0 0 0 0;\n",
              "      width: 32px;\n",
              "    }\n",
              "\n",
              "    .colab-df-convert:hover {\n",
              "      background-color: #E2EBFA;\n",
              "      box-shadow: 0px 1px 2px rgba(60, 64, 67, 0.3), 0px 1px 3px 1px rgba(60, 64, 67, 0.15);\n",
              "      fill: #174EA6;\n",
              "    }\n",
              "\n",
              "    [theme=dark] .colab-df-convert {\n",
              "      background-color: #3B4455;\n",
              "      fill: #D2E3FC;\n",
              "    }\n",
              "\n",
              "    [theme=dark] .colab-df-convert:hover {\n",
              "      background-color: #434B5C;\n",
              "      box-shadow: 0px 1px 3px 1px rgba(0, 0, 0, 0.15);\n",
              "      filter: drop-shadow(0px 1px 2px rgba(0, 0, 0, 0.3));\n",
              "      fill: #FFFFFF;\n",
              "    }\n",
              "  </style>\n",
              "\n",
              "      <script>\n",
              "        const buttonEl =\n",
              "          document.querySelector('#df-cbd392ca-eb4f-49b7-bb5d-2a60e0dd9b42 button.colab-df-convert');\n",
              "        buttonEl.style.display =\n",
              "          google.colab.kernel.accessAllowed ? 'block' : 'none';\n",
              "\n",
              "        async function convertToInteractive(key) {\n",
              "          const element = document.querySelector('#df-cbd392ca-eb4f-49b7-bb5d-2a60e0dd9b42');\n",
              "          const dataTable =\n",
              "            await google.colab.kernel.invokeFunction('convertToInteractive',\n",
              "                                                     [key], {});\n",
              "          if (!dataTable) return;\n",
              "\n",
              "          const docLinkHtml = 'Like what you see? Visit the ' +\n",
              "            '<a target=\"_blank\" href=https://colab.research.google.com/notebooks/data_table.ipynb>data table notebook</a>'\n",
              "            + ' to learn more about interactive tables.';\n",
              "          element.innerHTML = '';\n",
              "          dataTable['output_type'] = 'display_data';\n",
              "          await google.colab.output.renderOutput(dataTable, element);\n",
              "          const docLink = document.createElement('div');\n",
              "          docLink.innerHTML = docLinkHtml;\n",
              "          element.appendChild(docLink);\n",
              "        }\n",
              "      </script>\n",
              "    </div>\n",
              "  </div>\n",
              "  "
            ]
          },
          "metadata": {},
          "execution_count": 58
        }
      ]
    },
    {
      "cell_type": "code",
      "source": [
        "#write a progarm to split a string column in a DataFrame into two columns?\n",
        "x=pd.read_csv('/content/sample_data/mtcars (1).csv')\n",
        "a=x['Type'].str.split(' ',expand=True)\n",
        "x['left']=a[0]\n",
        "x['right']=a[1]\n",
        "x"
      ],
      "metadata": {
        "colab": {
          "base_uri": "https://localhost:8080/",
          "height": 1000
        },
        "id": "CYMKqa_o_f0R",
        "outputId": "392e7d86-dfe6-433a-b49a-3b1d8d1d0131"
      },
      "execution_count": null,
      "outputs": [
        {
          "output_type": "execute_result",
          "data": {
            "text/plain": [
              "                   Type   mpg  cyl   disp   hp  drat     wt   qsec  vs  am  \\\n",
              "0             Mazda RX4  21.0    6  160.0  110  3.90  2.620  16.46   0   1   \n",
              "1         Mazda RX4 Wag  21.0    6  160.0  110  3.90  2.875  17.02   0   1   \n",
              "2            Datsun 710  22.8    4  108.0   93  3.85  2.320  18.61   1   1   \n",
              "3        Hornet 4 Drive  21.4    6  258.0  110  3.08  3.215  19.44   1   0   \n",
              "4     Hornet Sportabout  18.7    8  360.0  175  3.15  3.440  17.02   0   0   \n",
              "5               Valiant  18.1    6  225.0  105  2.76  3.460  20.22   1   0   \n",
              "6            Duster 360  14.3    8  360.0  245  3.21  3.570  15.84   0   0   \n",
              "7             Merc 240D  24.4    4  146.7   62  3.69  3.190  20.00   1   0   \n",
              "8              Merc 230  22.8    4  140.8   95  3.92  3.150  22.90   1   0   \n",
              "9              Merc 280  19.2    6  167.6  123  3.92  3.440  18.30   1   0   \n",
              "10            Merc 280C  17.8    6  167.6  123  3.92  3.440  18.90   1   0   \n",
              "11           Merc 450SE  16.4    8  275.8  180  3.07  4.070  17.40   0   0   \n",
              "12           Merc 450SL  17.3    8  275.8  180  3.07  3.730  17.60   0   0   \n",
              "13          Merc 450SLC  15.2    8  275.8  180  3.07  3.780  18.00   0   0   \n",
              "14   Cadillac Fleetwood  10.4    8  472.0  205  2.93  5.250  17.98   0   0   \n",
              "15  Lincoln Continental  10.4    8  460.0  215  3.00  5.424  17.82   0   0   \n",
              "16    Chrysler Imperial  14.7    8  440.0  230  3.23  5.345  17.42   0   0   \n",
              "17             Fiat 128  32.4    4   78.7   66  4.08  2.200  19.47   1   1   \n",
              "18          Honda Civic  30.4    4   75.7   52  4.93  1.615  18.52   1   1   \n",
              "19       Toyota Corolla  33.9    4   71.1   65  4.22  1.835  19.90   1   1   \n",
              "20        Toyota Corona  21.5    4  120.1   97  3.70  2.465  20.01   1   0   \n",
              "21     Dodge Challenger  15.5    8  318.0  150  2.76  3.520  16.87   0   0   \n",
              "22          AMC Javelin  15.2    8  304.0  150  3.15  3.435  17.30   0   0   \n",
              "23           Camaro Z28  13.3    8  350.0  245  3.73  3.840  15.41   0   0   \n",
              "24     Pontiac Firebird  19.2    8  400.0  175  3.08  3.845  17.05   0   0   \n",
              "25            Fiat X1-9  27.3    4   79.0   66  4.08  1.935  18.90   1   1   \n",
              "26        Porsche 914-2  26.0    4  120.3   91  4.43  2.140  16.70   0   1   \n",
              "27         Lotus Europa  30.4    4   95.1  113  3.77  1.513  16.90   1   1   \n",
              "28       Ford Pantera L  15.8    8  351.0  264  4.22  3.170  14.50   0   1   \n",
              "29         Ferrari Dino  19.7    6  145.0  175  3.62  2.770  15.50   0   1   \n",
              "30        Maserati Bora  15.0    8  301.0  335  3.54  3.570  14.60   0   1   \n",
              "31           Volvo 142E  21.4    4  121.0  109  4.11  2.780  18.60   1   1   \n",
              "\n",
              "    gear  carb      left        right  \n",
              "0      4     4     Mazda          RX4  \n",
              "1      4     4     Mazda          RX4  \n",
              "2      4     1    Datsun          710  \n",
              "3      3     1    Hornet            4  \n",
              "4      3     2    Hornet   Sportabout  \n",
              "5      3     1   Valiant         None  \n",
              "6      3     4    Duster          360  \n",
              "7      4     2      Merc         240D  \n",
              "8      4     2      Merc          230  \n",
              "9      4     4      Merc          280  \n",
              "10     4     4      Merc         280C  \n",
              "11     3     3      Merc        450SE  \n",
              "12     3     3      Merc        450SL  \n",
              "13     3     3      Merc       450SLC  \n",
              "14     3     4  Cadillac    Fleetwood  \n",
              "15     3     4   Lincoln  Continental  \n",
              "16     3     4  Chrysler     Imperial  \n",
              "17     4     1      Fiat          128  \n",
              "18     4     2     Honda        Civic  \n",
              "19     4     1    Toyota      Corolla  \n",
              "20     3     1    Toyota       Corona  \n",
              "21     3     2     Dodge   Challenger  \n",
              "22     3     2       AMC      Javelin  \n",
              "23     3     4    Camaro          Z28  \n",
              "24     3     2   Pontiac     Firebird  \n",
              "25     4     1      Fiat         X1-9  \n",
              "26     5     2   Porsche        914-2  \n",
              "27     5     2     Lotus       Europa  \n",
              "28     5     4      Ford      Pantera  \n",
              "29     5     6   Ferrari         Dino  \n",
              "30     5     8  Maserati         Bora  \n",
              "31     4     2     Volvo         142E  "
            ],
            "text/html": [
              "\n",
              "  <div id=\"df-c7601e06-979d-436f-94ed-4146a26a81df\">\n",
              "    <div class=\"colab-df-container\">\n",
              "      <div>\n",
              "<style scoped>\n",
              "    .dataframe tbody tr th:only-of-type {\n",
              "        vertical-align: middle;\n",
              "    }\n",
              "\n",
              "    .dataframe tbody tr th {\n",
              "        vertical-align: top;\n",
              "    }\n",
              "\n",
              "    .dataframe thead th {\n",
              "        text-align: right;\n",
              "    }\n",
              "</style>\n",
              "<table border=\"1\" class=\"dataframe\">\n",
              "  <thead>\n",
              "    <tr style=\"text-align: right;\">\n",
              "      <th></th>\n",
              "      <th>Type</th>\n",
              "      <th>mpg</th>\n",
              "      <th>cyl</th>\n",
              "      <th>disp</th>\n",
              "      <th>hp</th>\n",
              "      <th>drat</th>\n",
              "      <th>wt</th>\n",
              "      <th>qsec</th>\n",
              "      <th>vs</th>\n",
              "      <th>am</th>\n",
              "      <th>gear</th>\n",
              "      <th>carb</th>\n",
              "      <th>left</th>\n",
              "      <th>right</th>\n",
              "    </tr>\n",
              "  </thead>\n",
              "  <tbody>\n",
              "    <tr>\n",
              "      <th>0</th>\n",
              "      <td>Mazda RX4</td>\n",
              "      <td>21.0</td>\n",
              "      <td>6</td>\n",
              "      <td>160.0</td>\n",
              "      <td>110</td>\n",
              "      <td>3.90</td>\n",
              "      <td>2.620</td>\n",
              "      <td>16.46</td>\n",
              "      <td>0</td>\n",
              "      <td>1</td>\n",
              "      <td>4</td>\n",
              "      <td>4</td>\n",
              "      <td>Mazda</td>\n",
              "      <td>RX4</td>\n",
              "    </tr>\n",
              "    <tr>\n",
              "      <th>1</th>\n",
              "      <td>Mazda RX4 Wag</td>\n",
              "      <td>21.0</td>\n",
              "      <td>6</td>\n",
              "      <td>160.0</td>\n",
              "      <td>110</td>\n",
              "      <td>3.90</td>\n",
              "      <td>2.875</td>\n",
              "      <td>17.02</td>\n",
              "      <td>0</td>\n",
              "      <td>1</td>\n",
              "      <td>4</td>\n",
              "      <td>4</td>\n",
              "      <td>Mazda</td>\n",
              "      <td>RX4</td>\n",
              "    </tr>\n",
              "    <tr>\n",
              "      <th>2</th>\n",
              "      <td>Datsun 710</td>\n",
              "      <td>22.8</td>\n",
              "      <td>4</td>\n",
              "      <td>108.0</td>\n",
              "      <td>93</td>\n",
              "      <td>3.85</td>\n",
              "      <td>2.320</td>\n",
              "      <td>18.61</td>\n",
              "      <td>1</td>\n",
              "      <td>1</td>\n",
              "      <td>4</td>\n",
              "      <td>1</td>\n",
              "      <td>Datsun</td>\n",
              "      <td>710</td>\n",
              "    </tr>\n",
              "    <tr>\n",
              "      <th>3</th>\n",
              "      <td>Hornet 4 Drive</td>\n",
              "      <td>21.4</td>\n",
              "      <td>6</td>\n",
              "      <td>258.0</td>\n",
              "      <td>110</td>\n",
              "      <td>3.08</td>\n",
              "      <td>3.215</td>\n",
              "      <td>19.44</td>\n",
              "      <td>1</td>\n",
              "      <td>0</td>\n",
              "      <td>3</td>\n",
              "      <td>1</td>\n",
              "      <td>Hornet</td>\n",
              "      <td>4</td>\n",
              "    </tr>\n",
              "    <tr>\n",
              "      <th>4</th>\n",
              "      <td>Hornet Sportabout</td>\n",
              "      <td>18.7</td>\n",
              "      <td>8</td>\n",
              "      <td>360.0</td>\n",
              "      <td>175</td>\n",
              "      <td>3.15</td>\n",
              "      <td>3.440</td>\n",
              "      <td>17.02</td>\n",
              "      <td>0</td>\n",
              "      <td>0</td>\n",
              "      <td>3</td>\n",
              "      <td>2</td>\n",
              "      <td>Hornet</td>\n",
              "      <td>Sportabout</td>\n",
              "    </tr>\n",
              "    <tr>\n",
              "      <th>5</th>\n",
              "      <td>Valiant</td>\n",
              "      <td>18.1</td>\n",
              "      <td>6</td>\n",
              "      <td>225.0</td>\n",
              "      <td>105</td>\n",
              "      <td>2.76</td>\n",
              "      <td>3.460</td>\n",
              "      <td>20.22</td>\n",
              "      <td>1</td>\n",
              "      <td>0</td>\n",
              "      <td>3</td>\n",
              "      <td>1</td>\n",
              "      <td>Valiant</td>\n",
              "      <td>None</td>\n",
              "    </tr>\n",
              "    <tr>\n",
              "      <th>6</th>\n",
              "      <td>Duster 360</td>\n",
              "      <td>14.3</td>\n",
              "      <td>8</td>\n",
              "      <td>360.0</td>\n",
              "      <td>245</td>\n",
              "      <td>3.21</td>\n",
              "      <td>3.570</td>\n",
              "      <td>15.84</td>\n",
              "      <td>0</td>\n",
              "      <td>0</td>\n",
              "      <td>3</td>\n",
              "      <td>4</td>\n",
              "      <td>Duster</td>\n",
              "      <td>360</td>\n",
              "    </tr>\n",
              "    <tr>\n",
              "      <th>7</th>\n",
              "      <td>Merc 240D</td>\n",
              "      <td>24.4</td>\n",
              "      <td>4</td>\n",
              "      <td>146.7</td>\n",
              "      <td>62</td>\n",
              "      <td>3.69</td>\n",
              "      <td>3.190</td>\n",
              "      <td>20.00</td>\n",
              "      <td>1</td>\n",
              "      <td>0</td>\n",
              "      <td>4</td>\n",
              "      <td>2</td>\n",
              "      <td>Merc</td>\n",
              "      <td>240D</td>\n",
              "    </tr>\n",
              "    <tr>\n",
              "      <th>8</th>\n",
              "      <td>Merc 230</td>\n",
              "      <td>22.8</td>\n",
              "      <td>4</td>\n",
              "      <td>140.8</td>\n",
              "      <td>95</td>\n",
              "      <td>3.92</td>\n",
              "      <td>3.150</td>\n",
              "      <td>22.90</td>\n",
              "      <td>1</td>\n",
              "      <td>0</td>\n",
              "      <td>4</td>\n",
              "      <td>2</td>\n",
              "      <td>Merc</td>\n",
              "      <td>230</td>\n",
              "    </tr>\n",
              "    <tr>\n",
              "      <th>9</th>\n",
              "      <td>Merc 280</td>\n",
              "      <td>19.2</td>\n",
              "      <td>6</td>\n",
              "      <td>167.6</td>\n",
              "      <td>123</td>\n",
              "      <td>3.92</td>\n",
              "      <td>3.440</td>\n",
              "      <td>18.30</td>\n",
              "      <td>1</td>\n",
              "      <td>0</td>\n",
              "      <td>4</td>\n",
              "      <td>4</td>\n",
              "      <td>Merc</td>\n",
              "      <td>280</td>\n",
              "    </tr>\n",
              "    <tr>\n",
              "      <th>10</th>\n",
              "      <td>Merc 280C</td>\n",
              "      <td>17.8</td>\n",
              "      <td>6</td>\n",
              "      <td>167.6</td>\n",
              "      <td>123</td>\n",
              "      <td>3.92</td>\n",
              "      <td>3.440</td>\n",
              "      <td>18.90</td>\n",
              "      <td>1</td>\n",
              "      <td>0</td>\n",
              "      <td>4</td>\n",
              "      <td>4</td>\n",
              "      <td>Merc</td>\n",
              "      <td>280C</td>\n",
              "    </tr>\n",
              "    <tr>\n",
              "      <th>11</th>\n",
              "      <td>Merc 450SE</td>\n",
              "      <td>16.4</td>\n",
              "      <td>8</td>\n",
              "      <td>275.8</td>\n",
              "      <td>180</td>\n",
              "      <td>3.07</td>\n",
              "      <td>4.070</td>\n",
              "      <td>17.40</td>\n",
              "      <td>0</td>\n",
              "      <td>0</td>\n",
              "      <td>3</td>\n",
              "      <td>3</td>\n",
              "      <td>Merc</td>\n",
              "      <td>450SE</td>\n",
              "    </tr>\n",
              "    <tr>\n",
              "      <th>12</th>\n",
              "      <td>Merc 450SL</td>\n",
              "      <td>17.3</td>\n",
              "      <td>8</td>\n",
              "      <td>275.8</td>\n",
              "      <td>180</td>\n",
              "      <td>3.07</td>\n",
              "      <td>3.730</td>\n",
              "      <td>17.60</td>\n",
              "      <td>0</td>\n",
              "      <td>0</td>\n",
              "      <td>3</td>\n",
              "      <td>3</td>\n",
              "      <td>Merc</td>\n",
              "      <td>450SL</td>\n",
              "    </tr>\n",
              "    <tr>\n",
              "      <th>13</th>\n",
              "      <td>Merc 450SLC</td>\n",
              "      <td>15.2</td>\n",
              "      <td>8</td>\n",
              "      <td>275.8</td>\n",
              "      <td>180</td>\n",
              "      <td>3.07</td>\n",
              "      <td>3.780</td>\n",
              "      <td>18.00</td>\n",
              "      <td>0</td>\n",
              "      <td>0</td>\n",
              "      <td>3</td>\n",
              "      <td>3</td>\n",
              "      <td>Merc</td>\n",
              "      <td>450SLC</td>\n",
              "    </tr>\n",
              "    <tr>\n",
              "      <th>14</th>\n",
              "      <td>Cadillac Fleetwood</td>\n",
              "      <td>10.4</td>\n",
              "      <td>8</td>\n",
              "      <td>472.0</td>\n",
              "      <td>205</td>\n",
              "      <td>2.93</td>\n",
              "      <td>5.250</td>\n",
              "      <td>17.98</td>\n",
              "      <td>0</td>\n",
              "      <td>0</td>\n",
              "      <td>3</td>\n",
              "      <td>4</td>\n",
              "      <td>Cadillac</td>\n",
              "      <td>Fleetwood</td>\n",
              "    </tr>\n",
              "    <tr>\n",
              "      <th>15</th>\n",
              "      <td>Lincoln Continental</td>\n",
              "      <td>10.4</td>\n",
              "      <td>8</td>\n",
              "      <td>460.0</td>\n",
              "      <td>215</td>\n",
              "      <td>3.00</td>\n",
              "      <td>5.424</td>\n",
              "      <td>17.82</td>\n",
              "      <td>0</td>\n",
              "      <td>0</td>\n",
              "      <td>3</td>\n",
              "      <td>4</td>\n",
              "      <td>Lincoln</td>\n",
              "      <td>Continental</td>\n",
              "    </tr>\n",
              "    <tr>\n",
              "      <th>16</th>\n",
              "      <td>Chrysler Imperial</td>\n",
              "      <td>14.7</td>\n",
              "      <td>8</td>\n",
              "      <td>440.0</td>\n",
              "      <td>230</td>\n",
              "      <td>3.23</td>\n",
              "      <td>5.345</td>\n",
              "      <td>17.42</td>\n",
              "      <td>0</td>\n",
              "      <td>0</td>\n",
              "      <td>3</td>\n",
              "      <td>4</td>\n",
              "      <td>Chrysler</td>\n",
              "      <td>Imperial</td>\n",
              "    </tr>\n",
              "    <tr>\n",
              "      <th>17</th>\n",
              "      <td>Fiat 128</td>\n",
              "      <td>32.4</td>\n",
              "      <td>4</td>\n",
              "      <td>78.7</td>\n",
              "      <td>66</td>\n",
              "      <td>4.08</td>\n",
              "      <td>2.200</td>\n",
              "      <td>19.47</td>\n",
              "      <td>1</td>\n",
              "      <td>1</td>\n",
              "      <td>4</td>\n",
              "      <td>1</td>\n",
              "      <td>Fiat</td>\n",
              "      <td>128</td>\n",
              "    </tr>\n",
              "    <tr>\n",
              "      <th>18</th>\n",
              "      <td>Honda Civic</td>\n",
              "      <td>30.4</td>\n",
              "      <td>4</td>\n",
              "      <td>75.7</td>\n",
              "      <td>52</td>\n",
              "      <td>4.93</td>\n",
              "      <td>1.615</td>\n",
              "      <td>18.52</td>\n",
              "      <td>1</td>\n",
              "      <td>1</td>\n",
              "      <td>4</td>\n",
              "      <td>2</td>\n",
              "      <td>Honda</td>\n",
              "      <td>Civic</td>\n",
              "    </tr>\n",
              "    <tr>\n",
              "      <th>19</th>\n",
              "      <td>Toyota Corolla</td>\n",
              "      <td>33.9</td>\n",
              "      <td>4</td>\n",
              "      <td>71.1</td>\n",
              "      <td>65</td>\n",
              "      <td>4.22</td>\n",
              "      <td>1.835</td>\n",
              "      <td>19.90</td>\n",
              "      <td>1</td>\n",
              "      <td>1</td>\n",
              "      <td>4</td>\n",
              "      <td>1</td>\n",
              "      <td>Toyota</td>\n",
              "      <td>Corolla</td>\n",
              "    </tr>\n",
              "    <tr>\n",
              "      <th>20</th>\n",
              "      <td>Toyota Corona</td>\n",
              "      <td>21.5</td>\n",
              "      <td>4</td>\n",
              "      <td>120.1</td>\n",
              "      <td>97</td>\n",
              "      <td>3.70</td>\n",
              "      <td>2.465</td>\n",
              "      <td>20.01</td>\n",
              "      <td>1</td>\n",
              "      <td>0</td>\n",
              "      <td>3</td>\n",
              "      <td>1</td>\n",
              "      <td>Toyota</td>\n",
              "      <td>Corona</td>\n",
              "    </tr>\n",
              "    <tr>\n",
              "      <th>21</th>\n",
              "      <td>Dodge Challenger</td>\n",
              "      <td>15.5</td>\n",
              "      <td>8</td>\n",
              "      <td>318.0</td>\n",
              "      <td>150</td>\n",
              "      <td>2.76</td>\n",
              "      <td>3.520</td>\n",
              "      <td>16.87</td>\n",
              "      <td>0</td>\n",
              "      <td>0</td>\n",
              "      <td>3</td>\n",
              "      <td>2</td>\n",
              "      <td>Dodge</td>\n",
              "      <td>Challenger</td>\n",
              "    </tr>\n",
              "    <tr>\n",
              "      <th>22</th>\n",
              "      <td>AMC Javelin</td>\n",
              "      <td>15.2</td>\n",
              "      <td>8</td>\n",
              "      <td>304.0</td>\n",
              "      <td>150</td>\n",
              "      <td>3.15</td>\n",
              "      <td>3.435</td>\n",
              "      <td>17.30</td>\n",
              "      <td>0</td>\n",
              "      <td>0</td>\n",
              "      <td>3</td>\n",
              "      <td>2</td>\n",
              "      <td>AMC</td>\n",
              "      <td>Javelin</td>\n",
              "    </tr>\n",
              "    <tr>\n",
              "      <th>23</th>\n",
              "      <td>Camaro Z28</td>\n",
              "      <td>13.3</td>\n",
              "      <td>8</td>\n",
              "      <td>350.0</td>\n",
              "      <td>245</td>\n",
              "      <td>3.73</td>\n",
              "      <td>3.840</td>\n",
              "      <td>15.41</td>\n",
              "      <td>0</td>\n",
              "      <td>0</td>\n",
              "      <td>3</td>\n",
              "      <td>4</td>\n",
              "      <td>Camaro</td>\n",
              "      <td>Z28</td>\n",
              "    </tr>\n",
              "    <tr>\n",
              "      <th>24</th>\n",
              "      <td>Pontiac Firebird</td>\n",
              "      <td>19.2</td>\n",
              "      <td>8</td>\n",
              "      <td>400.0</td>\n",
              "      <td>175</td>\n",
              "      <td>3.08</td>\n",
              "      <td>3.845</td>\n",
              "      <td>17.05</td>\n",
              "      <td>0</td>\n",
              "      <td>0</td>\n",
              "      <td>3</td>\n",
              "      <td>2</td>\n",
              "      <td>Pontiac</td>\n",
              "      <td>Firebird</td>\n",
              "    </tr>\n",
              "    <tr>\n",
              "      <th>25</th>\n",
              "      <td>Fiat X1-9</td>\n",
              "      <td>27.3</td>\n",
              "      <td>4</td>\n",
              "      <td>79.0</td>\n",
              "      <td>66</td>\n",
              "      <td>4.08</td>\n",
              "      <td>1.935</td>\n",
              "      <td>18.90</td>\n",
              "      <td>1</td>\n",
              "      <td>1</td>\n",
              "      <td>4</td>\n",
              "      <td>1</td>\n",
              "      <td>Fiat</td>\n",
              "      <td>X1-9</td>\n",
              "    </tr>\n",
              "    <tr>\n",
              "      <th>26</th>\n",
              "      <td>Porsche 914-2</td>\n",
              "      <td>26.0</td>\n",
              "      <td>4</td>\n",
              "      <td>120.3</td>\n",
              "      <td>91</td>\n",
              "      <td>4.43</td>\n",
              "      <td>2.140</td>\n",
              "      <td>16.70</td>\n",
              "      <td>0</td>\n",
              "      <td>1</td>\n",
              "      <td>5</td>\n",
              "      <td>2</td>\n",
              "      <td>Porsche</td>\n",
              "      <td>914-2</td>\n",
              "    </tr>\n",
              "    <tr>\n",
              "      <th>27</th>\n",
              "      <td>Lotus Europa</td>\n",
              "      <td>30.4</td>\n",
              "      <td>4</td>\n",
              "      <td>95.1</td>\n",
              "      <td>113</td>\n",
              "      <td>3.77</td>\n",
              "      <td>1.513</td>\n",
              "      <td>16.90</td>\n",
              "      <td>1</td>\n",
              "      <td>1</td>\n",
              "      <td>5</td>\n",
              "      <td>2</td>\n",
              "      <td>Lotus</td>\n",
              "      <td>Europa</td>\n",
              "    </tr>\n",
              "    <tr>\n",
              "      <th>28</th>\n",
              "      <td>Ford Pantera L</td>\n",
              "      <td>15.8</td>\n",
              "      <td>8</td>\n",
              "      <td>351.0</td>\n",
              "      <td>264</td>\n",
              "      <td>4.22</td>\n",
              "      <td>3.170</td>\n",
              "      <td>14.50</td>\n",
              "      <td>0</td>\n",
              "      <td>1</td>\n",
              "      <td>5</td>\n",
              "      <td>4</td>\n",
              "      <td>Ford</td>\n",
              "      <td>Pantera</td>\n",
              "    </tr>\n",
              "    <tr>\n",
              "      <th>29</th>\n",
              "      <td>Ferrari Dino</td>\n",
              "      <td>19.7</td>\n",
              "      <td>6</td>\n",
              "      <td>145.0</td>\n",
              "      <td>175</td>\n",
              "      <td>3.62</td>\n",
              "      <td>2.770</td>\n",
              "      <td>15.50</td>\n",
              "      <td>0</td>\n",
              "      <td>1</td>\n",
              "      <td>5</td>\n",
              "      <td>6</td>\n",
              "      <td>Ferrari</td>\n",
              "      <td>Dino</td>\n",
              "    </tr>\n",
              "    <tr>\n",
              "      <th>30</th>\n",
              "      <td>Maserati Bora</td>\n",
              "      <td>15.0</td>\n",
              "      <td>8</td>\n",
              "      <td>301.0</td>\n",
              "      <td>335</td>\n",
              "      <td>3.54</td>\n",
              "      <td>3.570</td>\n",
              "      <td>14.60</td>\n",
              "      <td>0</td>\n",
              "      <td>1</td>\n",
              "      <td>5</td>\n",
              "      <td>8</td>\n",
              "      <td>Maserati</td>\n",
              "      <td>Bora</td>\n",
              "    </tr>\n",
              "    <tr>\n",
              "      <th>31</th>\n",
              "      <td>Volvo 142E</td>\n",
              "      <td>21.4</td>\n",
              "      <td>4</td>\n",
              "      <td>121.0</td>\n",
              "      <td>109</td>\n",
              "      <td>4.11</td>\n",
              "      <td>2.780</td>\n",
              "      <td>18.60</td>\n",
              "      <td>1</td>\n",
              "      <td>1</td>\n",
              "      <td>4</td>\n",
              "      <td>2</td>\n",
              "      <td>Volvo</td>\n",
              "      <td>142E</td>\n",
              "    </tr>\n",
              "  </tbody>\n",
              "</table>\n",
              "</div>\n",
              "      <button class=\"colab-df-convert\" onclick=\"convertToInteractive('df-c7601e06-979d-436f-94ed-4146a26a81df')\"\n",
              "              title=\"Convert this dataframe to an interactive table.\"\n",
              "              style=\"display:none;\">\n",
              "        \n",
              "  <svg xmlns=\"http://www.w3.org/2000/svg\" height=\"24px\"viewBox=\"0 0 24 24\"\n",
              "       width=\"24px\">\n",
              "    <path d=\"M0 0h24v24H0V0z\" fill=\"none\"/>\n",
              "    <path d=\"M18.56 5.44l.94 2.06.94-2.06 2.06-.94-2.06-.94-.94-2.06-.94 2.06-2.06.94zm-11 1L8.5 8.5l.94-2.06 2.06-.94-2.06-.94L8.5 2.5l-.94 2.06-2.06.94zm10 10l.94 2.06.94-2.06 2.06-.94-2.06-.94-.94-2.06-.94 2.06-2.06.94z\"/><path d=\"M17.41 7.96l-1.37-1.37c-.4-.4-.92-.59-1.43-.59-.52 0-1.04.2-1.43.59L10.3 9.45l-7.72 7.72c-.78.78-.78 2.05 0 2.83L4 21.41c.39.39.9.59 1.41.59.51 0 1.02-.2 1.41-.59l7.78-7.78 2.81-2.81c.8-.78.8-2.07 0-2.86zM5.41 20L4 18.59l7.72-7.72 1.47 1.35L5.41 20z\"/>\n",
              "  </svg>\n",
              "      </button>\n",
              "      \n",
              "  <style>\n",
              "    .colab-df-container {\n",
              "      display:flex;\n",
              "      flex-wrap:wrap;\n",
              "      gap: 12px;\n",
              "    }\n",
              "\n",
              "    .colab-df-convert {\n",
              "      background-color: #E8F0FE;\n",
              "      border: none;\n",
              "      border-radius: 50%;\n",
              "      cursor: pointer;\n",
              "      display: none;\n",
              "      fill: #1967D2;\n",
              "      height: 32px;\n",
              "      padding: 0 0 0 0;\n",
              "      width: 32px;\n",
              "    }\n",
              "\n",
              "    .colab-df-convert:hover {\n",
              "      background-color: #E2EBFA;\n",
              "      box-shadow: 0px 1px 2px rgba(60, 64, 67, 0.3), 0px 1px 3px 1px rgba(60, 64, 67, 0.15);\n",
              "      fill: #174EA6;\n",
              "    }\n",
              "\n",
              "    [theme=dark] .colab-df-convert {\n",
              "      background-color: #3B4455;\n",
              "      fill: #D2E3FC;\n",
              "    }\n",
              "\n",
              "    [theme=dark] .colab-df-convert:hover {\n",
              "      background-color: #434B5C;\n",
              "      box-shadow: 0px 1px 3px 1px rgba(0, 0, 0, 0.15);\n",
              "      filter: drop-shadow(0px 1px 2px rgba(0, 0, 0, 0.3));\n",
              "      fill: #FFFFFF;\n",
              "    }\n",
              "  </style>\n",
              "\n",
              "      <script>\n",
              "        const buttonEl =\n",
              "          document.querySelector('#df-c7601e06-979d-436f-94ed-4146a26a81df button.colab-df-convert');\n",
              "        buttonEl.style.display =\n",
              "          google.colab.kernel.accessAllowed ? 'block' : 'none';\n",
              "\n",
              "        async function convertToInteractive(key) {\n",
              "          const element = document.querySelector('#df-c7601e06-979d-436f-94ed-4146a26a81df');\n",
              "          const dataTable =\n",
              "            await google.colab.kernel.invokeFunction('convertToInteractive',\n",
              "                                                     [key], {});\n",
              "          if (!dataTable) return;\n",
              "\n",
              "          const docLinkHtml = 'Like what you see? Visit the ' +\n",
              "            '<a target=\"_blank\" href=https://colab.research.google.com/notebooks/data_table.ipynb>data table notebook</a>'\n",
              "            + ' to learn more about interactive tables.';\n",
              "          element.innerHTML = '';\n",
              "          dataTable['output_type'] = 'display_data';\n",
              "          await google.colab.output.renderOutput(dataTable, element);\n",
              "          const docLink = document.createElement('div');\n",
              "          docLink.innerHTML = docLinkHtml;\n",
              "          element.appendChild(docLink);\n",
              "        }\n",
              "      </script>\n",
              "    </div>\n",
              "  </div>\n",
              "  "
            ]
          },
          "metadata": {},
          "execution_count": 67
        }
      ]
    },
    {
      "cell_type": "code",
      "source": [
        "#2Write code to extract the first and last column of dataframe.\n",
        "df={'name': ['Anastasia', 'Dima', 'Katherine', 'James', 'Emily', 'Michael', 'Matthew','Laura', 'Kevin', 'Jonas'],\n",
        "          'score': [12.5, 9, 16.5, np.nan, 9, 20, 14.5, np.nan, 8, 19],\n",
        "          'attempts': [1, 3, 2, 3, 2, 3, 1, 1, 2, 1],\n",
        "          'qualify': ['yes', 'no', 'yes', 'no', 'no', 'yes', 'yes', 'no', 'no', 'yes']}\n",
        "labels = ['a', 'b', 'c', 'd', 'e', 'f', 'g', 'h', 'i', 'j']\n",
        "print(pd.DataFrame(df,index=labels))\n",
        "print('--------------------------')\n",
        "x=pd.DataFrame(df,index=labels)\n",
        "lc=x.shape[1]\n",
        "print(x.iloc[:,[0,lc-1]])"
      ],
      "metadata": {
        "colab": {
          "base_uri": "https://localhost:8080/"
        },
        "id": "qhaKxs9Dsgi0",
        "outputId": "ac2c647d-9337-4965-bee9-f41d3dee422d"
      },
      "execution_count": null,
      "outputs": [
        {
          "output_type": "stream",
          "name": "stdout",
          "text": [
            "        name  score  attempts qualify\n",
            "a  Anastasia   12.5         1     yes\n",
            "b       Dima    9.0         3      no\n",
            "c  Katherine   16.5         2     yes\n",
            "d      James    NaN         3      no\n",
            "e      Emily    9.0         2      no\n",
            "f    Michael   20.0         3     yes\n",
            "g    Matthew   14.5         1     yes\n",
            "h      Laura    NaN         1      no\n",
            "i      Kevin    8.0         2      no\n",
            "j      Jonas   19.0         1     yes\n",
            "--------------------------\n",
            "        name qualify\n",
            "a  Anastasia     yes\n",
            "b       Dima      no\n",
            "c  Katherine     yes\n",
            "d      James      no\n",
            "e      Emily      no\n",
            "f    Michael     yes\n",
            "g    Matthew     yes\n",
            "h      Laura      no\n",
            "i      Kevin      no\n",
            "j      Jonas     yes\n"
          ]
        }
      ]
    },
    {
      "cell_type": "code",
      "source": [
        "#write a progarm to split a string column in a DataFrame into two columns?\n",
        "x={'names':['Rajitha Ramineni','shanaya varma','nandan varma']}\n",
        "df=pd.DataFrame(x)\n",
        "print(df)\n",
        "print('--------------------')\n",
        "splitdf=df['names'].str.split(' ',n=1,expand=True)\n",
        "df['First Name']=splitdf[0]\n",
        "df['Last Name']=splitdf[1]\n",
        "print(df)\n",
        "print('---------------------')\n",
        "df.drop(columns='names',inplace=True)\n",
        "print(df)"
      ],
      "metadata": {
        "colab": {
          "base_uri": "https://localhost:8080/"
        },
        "id": "GywHWUlZ0d0e",
        "outputId": "71cb29c7-f5fc-4e46-e163-b91202b227f1"
      },
      "execution_count": null,
      "outputs": [
        {
          "output_type": "stream",
          "name": "stdout",
          "text": [
            "              names\n",
            "0  Rajitha Ramineni\n",
            "1     shanaya varma\n",
            "2      nandan varma\n",
            "--------------------\n",
            "              names First Name Last Name\n",
            "0  Rajitha Ramineni    Rajitha  Ramineni\n",
            "1     shanaya varma    shanaya     varma\n",
            "2      nandan varma     nandan     varma\n",
            "---------------------\n",
            "  First Name Last Name\n",
            "0    Rajitha  Ramineni\n",
            "1    shanaya     varma\n",
            "2     nandan     varma\n"
          ]
        }
      ]
    },
    {
      "cell_type": "code",
      "source": [
        "#Given a dataframe with categorical values,count number of entries in each category and draw a bar plot.\n",
        "import pandas as pd\n",
        "import matplotlib.pyplot as plt\n",
        "x=pd.read_csv('/content/sample_data/mtcars (1).csv')\n",
        "print(x.head())\n",
        "x['gear'].value_counts().plot(kind='bar',rot=0,)\n",
        "plt.show()"
      ],
      "metadata": {
        "colab": {
          "base_uri": "https://localhost:8080/",
          "height": 491
        },
        "id": "MZM_7YBgx5Tj",
        "outputId": "7772b758-dc01-4c41-a5b3-ad4f0b3564e6"
      },
      "execution_count": null,
      "outputs": [
        {
          "output_type": "stream",
          "name": "stdout",
          "text": [
            "                Type   mpg  cyl   disp   hp  drat     wt   qsec  vs  am  gear  \\\n",
            "0          Mazda RX4  21.0    6  160.0  110  3.90  2.620  16.46   0   1     4   \n",
            "1      Mazda RX4 Wag  21.0    6  160.0  110  3.90  2.875  17.02   0   1     4   \n",
            "2         Datsun 710  22.8    4  108.0   93  3.85  2.320  18.61   1   1     4   \n",
            "3     Hornet 4 Drive  21.4    6  258.0  110  3.08  3.215  19.44   1   0     3   \n",
            "4  Hornet Sportabout  18.7    8  360.0  175  3.15  3.440  17.02   0   0     3   \n",
            "\n",
            "   carb  \n",
            "0     4  \n",
            "1     4  \n",
            "2     1  \n",
            "3     1  \n",
            "4     2  \n"
          ]
        },
        {
          "output_type": "display_data",
          "data": {
            "text/plain": [
              "<Figure size 432x288 with 1 Axes>"
            ],
            "image/png": "[encoded data removed]"
          },
          "metadata": {
            "needs_background": "light"
          }
        }
      ]
    },
    {
      "cell_type": "code",
      "source": [
        "#Write a Pandas program to select the rows where the score is missing, i.e. is NaN.\n",
        "import pandas as pd\n",
        "import numpy as np\n",
        "exam_data  = {'name': ['abc','xyz','pqr','def'],\n",
        "        'score': [9, 16.5, np.nan, np.nan],\n",
        "        'attempts': [1, 3, 2, 3],\n",
        "        'qualify': ['yes', 'no','no', 'yes']}\n",
        "\n",
        "df = pd.DataFrame(exam_data)\n",
        "print(\"Rows where score is missing:\")\n",
        "print(df[df['score'].isnull()])"
      ],
      "metadata": {
        "colab": {
          "base_uri": "https://localhost:8080/"
        },
        "id": "TXLcqnMVYNsZ",
        "outputId": "20d328f3-dc5e-4649-df9d-c48a01844145"
      },
      "execution_count": null,
      "outputs": [
        {
          "output_type": "stream",
          "name": "stdout",
          "text": [
            "Rows where score is missing:\n",
            "  name  score  attempts qualify\n",
            "2  pqr    NaN         2      no\n",
            "3  def    NaN         3     yes\n"
          ]
        }
      ]
    },
    {
      "cell_type": "code",
      "source": [
        "##Given a dataframe with categorical values,count number of entries in each category which category get the highest value\n",
        "import pandas as pd\n",
        "import matplotlib.pyplot as plt\n",
        "x=pd.read_csv('/content/sample_data/mtcars (1).csv')\n",
        "print(x['cyl'].unique(),'\\n',x['cyl'].value_counts())\n",
        "print(x['cyl'].mode())"
      ],
      "metadata": {
        "colab": {
          "base_uri": "https://localhost:8080/"
        },
        "id": "eaRu76WeIFYR",
        "outputId": "d0e72d37-7727-4b5b-993d-38b968a92b8f"
      },
      "execution_count": null,
      "outputs": [
        {
          "output_type": "stream",
          "name": "stdout",
          "text": [
            "[6 4 8] \n",
            " 8    14\n",
            "4    11\n",
            "6     7\n",
            "Name: cyl, dtype: int64\n",
            "0    8\n",
            "dtype: int64\n"
          ]
        }
      ]
    },
    {
      "cell_type": "code",
      "source": [
        "#\"Draw a horizontal bar chart with Matplotlib? x=['one', 'two', 'three', 'four', 'five'] and y=[5, 24, 35, 67, 12]\n",
        "x=['one', 'two', 'three', 'four', 'five'] \n",
        "y=[5, 24, 35, 67, 12]\n",
        "import matplotlib.pyplot as plt\n",
        "plt.barh(x,y)\n",
        "plt.show()"
      ],
      "metadata": {
        "colab": {
          "base_uri": "https://localhost:8080/",
          "height": 265
        },
        "id": "wkirrb2WFqhR",
        "outputId": "63f85255-f734-493d-be37-c6c182c3c280"
      },
      "execution_count": null,
      "outputs": [
        {
          "output_type": "display_data",
          "data": {
            "text/plain": [
              "<Figure size 432x288 with 1 Axes>"
            ],
            "image/png": "[encoded data removed]"
          },
          "metadata": {
            "needs_background": "light"
          }
        }
      ]
    },
    {
      "cell_type": "code",
      "source": [
        "#Write code to read excel file and load into dataframe.\n",
        "x=pd.read_excel('/content/sample_data/housing (2) (1) (2).xlsx')\n",
        "x"
      ],
      "metadata": {
        "colab": {
          "base_uri": "https://localhost:8080/",
          "height": 488
        },
        "id": "jF96gGF5FxC5",
        "outputId": "97702f2b-8c6d-46b7-e647-e3326aaa0c7b"
      },
      "execution_count": null,
      "outputs": [
        {
          "output_type": "execute_result",
          "data": {
            "text/plain": [
              "       longitude  latitude  housing_median_age  total_rooms  total_bedrooms  \\\n",
              "0        -122.23     37.88                41.0        880.0           129.0   \n",
              "1        -122.22     37.86                21.0       7099.0          1106.0   \n",
              "2        -122.24     37.85                52.0       1467.0           190.0   \n",
              "3        -122.25     37.85                52.0       1274.0           235.0   \n",
              "4        -122.25     37.85                52.0       1627.0           280.0   \n",
              "...          ...       ...                 ...          ...             ...   \n",
              "20635    -121.09     39.48                25.0       1665.0           374.0   \n",
              "20636    -121.21     39.49                18.0        697.0           150.0   \n",
              "20637    -121.22     39.43                17.0       2254.0           485.0   \n",
              "20638    -121.32     39.43                18.0       1860.0           409.0   \n",
              "20639    -121.24     39.37                16.0       2785.0           616.0   \n",
              "\n",
              "       population  households  median_income  median_house_value  \\\n",
              "0           322.0       126.0         8.3252            452600.0   \n",
              "1          2401.0      1138.0         8.3014            358500.0   \n",
              "2           496.0       177.0         7.2574            352100.0   \n",
              "3           558.0       219.0         5.6431            341300.0   \n",
              "4           565.0       259.0         3.8462            342200.0   \n",
              "...           ...         ...            ...                 ...   \n",
              "20635       845.0       330.0         1.5603             78100.0   \n",
              "20636       356.0       114.0         2.5568             77100.0   \n",
              "20637      1007.0       433.0         1.7000             92300.0   \n",
              "20638       741.0       349.0         1.8672             84700.0   \n",
              "20639      1387.0       530.0         2.3886             89400.0   \n",
              "\n",
              "      ocean_proximity  \n",
              "0            NEAR BAY  \n",
              "1            NEAR BAY  \n",
              "2            NEAR BAY  \n",
              "3            NEAR BAY  \n",
              "4            NEAR BAY  \n",
              "...               ...  \n",
              "20635          INLAND  \n",
              "20636          INLAND  \n",
              "20637          INLAND  \n",
              "20638          INLAND  \n",
              "20639          INLAND  \n",
              "\n",
              "[20640 rows x 10 columns]"
            ],
            "text/html": [
              "\n",
              "  <div id=\"df-ab177771-eac0-4c94-b918-6ba24fc3ab49\">\n",
              "    <div class=\"colab-df-container\">\n",
              "      <div>\n",
              "<style scoped>\n",
              "    .dataframe tbody tr th:only-of-type {\n",
              "        vertical-align: middle;\n",
              "    }\n",
              "\n",
              "    .dataframe tbody tr th {\n",
              "        vertical-align: top;\n",
              "    }\n",
              "\n",
              "    .dataframe thead th {\n",
              "        text-align: right;\n",
              "    }\n",
              "</style>\n",
              "<table border=\"1\" class=\"dataframe\">\n",
              "  <thead>\n",
              "    <tr style=\"text-align: right;\">\n",
              "      <th></th>\n",
              "      <th>longitude</th>\n",
              "      <th>latitude</th>\n",
              "      <th>housing_median_age</th>\n",
              "      <th>total_rooms</th>\n",
              "      <th>total_bedrooms</th>\n",
              "      <th>population</th>\n",
              "      <th>households</th>\n",
              "      <th>median_income</th>\n",
              "      <th>median_house_value</th>\n",
              "      <th>ocean_proximity</th>\n",
              "    </tr>\n",
              "  </thead>\n",
              "  <tbody>\n",
              "    <tr>\n",
              "      <th>0</th>\n",
              "      <td>-122.23</td>\n",
              "      <td>37.88</td>\n",
              "      <td>41.0</td>\n",
              "      <td>880.0</td>\n",
              "      <td>129.0</td>\n",
              "      <td>322.0</td>\n",
              "      <td>126.0</td>\n",
              "      <td>8.3252</td>\n",
              "      <td>452600.0</td>\n",
              "      <td>NEAR BAY</td>\n",
              "    </tr>\n",
              "    <tr>\n",
              "      <th>1</th>\n",
              "      <td>-122.22</td>\n",
              "      <td>37.86</td>\n",
              "      <td>21.0</td>\n",
              "      <td>7099.0</td>\n",
              "      <td>1106.0</td>\n",
              "      <td>2401.0</td>\n",
              "      <td>1138.0</td>\n",
              "      <td>8.3014</td>\n",
              "      <td>358500.0</td>\n",
              "      <td>NEAR BAY</td>\n",
              "    </tr>\n",
              "    <tr>\n",
              "      <th>2</th>\n",
              "      <td>-122.24</td>\n",
              "      <td>37.85</td>\n",
              "      <td>52.0</td>\n",
              "      <td>1467.0</td>\n",
              "      <td>190.0</td>\n",
              "      <td>496.0</td>\n",
              "      <td>177.0</td>\n",
              "      <td>7.2574</td>\n",
              "      <td>352100.0</td>\n",
              "      <td>NEAR BAY</td>\n",
              "    </tr>\n",
              "    <tr>\n",
              "      <th>3</th>\n",
              "      <td>-122.25</td>\n",
              "      <td>37.85</td>\n",
              "      <td>52.0</td>\n",
              "      <td>1274.0</td>\n",
              "      <td>235.0</td>\n",
              "      <td>558.0</td>\n",
              "      <td>219.0</td>\n",
              "      <td>5.6431</td>\n",
              "      <td>341300.0</td>\n",
              "      <td>NEAR BAY</td>\n",
              "    </tr>\n",
              "    <tr>\n",
              "      <th>4</th>\n",
              "      <td>-122.25</td>\n",
              "      <td>37.85</td>\n",
              "      <td>52.0</td>\n",
              "      <td>1627.0</td>\n",
              "      <td>280.0</td>\n",
              "      <td>565.0</td>\n",
              "      <td>259.0</td>\n",
              "      <td>3.8462</td>\n",
              "      <td>342200.0</td>\n",
              "      <td>NEAR BAY</td>\n",
              "    </tr>\n",
              "    <tr>\n",
              "      <th>...</th>\n",
              "      <td>...</td>\n",
              "      <td>...</td>\n",
              "      <td>...</td>\n",
              "      <td>...</td>\n",
              "      <td>...</td>\n",
              "      <td>...</td>\n",
              "      <td>...</td>\n",
              "      <td>...</td>\n",
              "      <td>...</td>\n",
              "      <td>...</td>\n",
              "    </tr>\n",
              "    <tr>\n",
              "      <th>20635</th>\n",
              "      <td>-121.09</td>\n",
              "      <td>39.48</td>\n",
              "      <td>25.0</td>\n",
              "      <td>1665.0</td>\n",
              "      <td>374.0</td>\n",
              "      <td>845.0</td>\n",
              "      <td>330.0</td>\n",
              "      <td>1.5603</td>\n",
              "      <td>78100.0</td>\n",
              "      <td>INLAND</td>\n",
              "    </tr>\n",
              "    <tr>\n",
              "      <th>20636</th>\n",
              "      <td>-121.21</td>\n",
              "      <td>39.49</td>\n",
              "      <td>18.0</td>\n",
              "      <td>697.0</td>\n",
              "      <td>150.0</td>\n",
              "      <td>356.0</td>\n",
              "      <td>114.0</td>\n",
              "      <td>2.5568</td>\n",
              "      <td>77100.0</td>\n",
              "      <td>INLAND</td>\n",
              "    </tr>\n",
              "    <tr>\n",
              "      <th>20637</th>\n",
              "      <td>-121.22</td>\n",
              "      <td>39.43</td>\n",
              "      <td>17.0</td>\n",
              "      <td>2254.0</td>\n",
              "      <td>485.0</td>\n",
              "      <td>1007.0</td>\n",
              "      <td>433.0</td>\n",
              "      <td>1.7000</td>\n",
              "      <td>92300.0</td>\n",
              "      <td>INLAND</td>\n",
              "    </tr>\n",
              "    <tr>\n",
              "      <th>20638</th>\n",
              "      <td>-121.32</td>\n",
              "      <td>39.43</td>\n",
              "      <td>18.0</td>\n",
              "      <td>1860.0</td>\n",
              "      <td>409.0</td>\n",
              "      <td>741.0</td>\n",
              "      <td>349.0</td>\n",
              "      <td>1.8672</td>\n",
              "      <td>84700.0</td>\n",
              "      <td>INLAND</td>\n",
              "    </tr>\n",
              "    <tr>\n",
              "      <th>20639</th>\n",
              "      <td>-121.24</td>\n",
              "      <td>39.37</td>\n",
              "      <td>16.0</td>\n",
              "      <td>2785.0</td>\n",
              "      <td>616.0</td>\n",
              "      <td>1387.0</td>\n",
              "      <td>530.0</td>\n",
              "      <td>2.3886</td>\n",
              "      <td>89400.0</td>\n",
              "      <td>INLAND</td>\n",
              "    </tr>\n",
              "  </tbody>\n",
              "</table>\n",
              "<p>20640 rows × 10 columns</p>\n",
              "</div>\n",
              "      <button class=\"colab-df-convert\" onclick=\"convertToInteractive('df-ab177771-eac0-4c94-b918-6ba24fc3ab49')\"\n",
              "              title=\"Convert this dataframe to an interactive table.\"\n",
              "              style=\"display:none;\">\n",
              "        \n",
              "  <svg xmlns=\"http://www.w3.org/2000/svg\" height=\"24px\"viewBox=\"0 0 24 24\"\n",
              "       width=\"24px\">\n",
              "    <path d=\"M0 0h24v24H0V0z\" fill=\"none\"/>\n",
              "    <path d=\"M18.56 5.44l.94 2.06.94-2.06 2.06-.94-2.06-.94-.94-2.06-.94 2.06-2.06.94zm-11 1L8.5 8.5l.94-2.06 2.06-.94-2.06-.94L8.5 2.5l-.94 2.06-2.06.94zm10 10l.94 2.06.94-2.06 2.06-.94-2.06-.94-.94-2.06-.94 2.06-2.06.94z\"/><path d=\"M17.41 7.96l-1.37-1.37c-.4-.4-.92-.59-1.43-.59-.52 0-1.04.2-1.43.59L10.3 9.45l-7.72 7.72c-.78.78-.78 2.05 0 2.83L4 21.41c.39.39.9.59 1.41.59.51 0 1.02-.2 1.41-.59l7.78-7.78 2.81-2.81c.8-.78.8-2.07 0-2.86zM5.41 20L4 18.59l7.72-7.72 1.47 1.35L5.41 20z\"/>\n",
              "  </svg>\n",
              "      </button>\n",
              "      \n",
              "  <style>\n",
              "    .colab-df-container {\n",
              "      display:flex;\n",
              "      flex-wrap:wrap;\n",
              "      gap: 12px;\n",
              "    }\n",
              "\n",
              "    .colab-df-convert {\n",
              "      background-color: #E8F0FE;\n",
              "      border: none;\n",
              "      border-radius: 50%;\n",
              "      cursor: pointer;\n",
              "      display: none;\n",
              "      fill: #1967D2;\n",
              "      height: 32px;\n",
              "      padding: 0 0 0 0;\n",
              "      width: 32px;\n",
              "    }\n",
              "\n",
              "    .colab-df-convert:hover {\n",
              "      background-color: #E2EBFA;\n",
              "      box-shadow: 0px 1px 2px rgba(60, 64, 67, 0.3), 0px 1px 3px 1px rgba(60, 64, 67, 0.15);\n",
              "      fill: #174EA6;\n",
              "    }\n",
              "\n",
              "    [theme=dark] .colab-df-convert {\n",
              "      background-color: #3B4455;\n",
              "      fill: #D2E3FC;\n",
              "    }\n",
              "\n",
              "    [theme=dark] .colab-df-convert:hover {\n",
              "      background-color: #434B5C;\n",
              "      box-shadow: 0px 1px 3px 1px rgba(0, 0, 0, 0.15);\n",
              "      filter: drop-shadow(0px 1px 2px rgba(0, 0, 0, 0.3));\n",
              "      fill: #FFFFFF;\n",
              "    }\n",
              "  </style>\n",
              "\n",
              "      <script>\n",
              "        const buttonEl =\n",
              "          document.querySelector('#df-ab177771-eac0-4c94-b918-6ba24fc3ab49 button.colab-df-convert');\n",
              "        buttonEl.style.display =\n",
              "          google.colab.kernel.accessAllowed ? 'block' : 'none';\n",
              "\n",
              "        async function convertToInteractive(key) {\n",
              "          const element = document.querySelector('#df-ab177771-eac0-4c94-b918-6ba24fc3ab49');\n",
              "          const dataTable =\n",
              "            await google.colab.kernel.invokeFunction('convertToInteractive',\n",
              "                                                     [key], {});\n",
              "          if (!dataTable) return;\n",
              "\n",
              "          const docLinkHtml = 'Like what you see? Visit the ' +\n",
              "            '<a target=\"_blank\" href=https://colab.research.google.com/notebooks/data_table.ipynb>data table notebook</a>'\n",
              "            + ' to learn more about interactive tables.';\n",
              "          element.innerHTML = '';\n",
              "          dataTable['output_type'] = 'display_data';\n",
              "          await google.colab.output.renderOutput(dataTable, element);\n",
              "          const docLink = document.createElement('div');\n",
              "          docLink.innerHTML = docLinkHtml;\n",
              "          element.appendChild(docLink);\n",
              "        }\n",
              "      </script>\n",
              "    </div>\n",
              "  </div>\n",
              "  "
            ]
          },
          "metadata": {},
          "execution_count": 96
        }
      ]
    },
    {
      "cell_type": "code",
      "source": [
        "#Write a Pandas program to select the rows where the score is missing, i.e. is NaN.\n",
        "import numpy as np\n",
        "x={'names':['abc','def','xyz'],'scores':[np.NaN,67,78]}\n",
        "a=pd.DataFrame(x)\n",
        "print(a)\n",
        "a[a['scores'].isnull()]"
      ],
      "metadata": {
        "colab": {
          "base_uri": "https://localhost:8080/",
          "height": 150
        },
        "id": "BgL3AQ0UF1LK",
        "outputId": "f88d355e-060a-4c06-dd2f-2ce3a2f90ff9"
      },
      "execution_count": null,
      "outputs": [
        {
          "output_type": "stream",
          "name": "stdout",
          "text": [
            "  names  scores\n",
            "0   abc     NaN\n",
            "1   def    67.0\n",
            "2   xyz    78.0\n"
          ]
        },
        {
          "output_type": "execute_result",
          "data": {
            "text/plain": [
              "  names  scores\n",
              "0   abc     NaN"
            ],
            "text/html": [
              "\n",
              "  <div id=\"df-cc3e3d91-95cc-4ebe-9648-e2cc9391fde9\">\n",
              "    <div class=\"colab-df-container\">\n",
              "      <div>\n",
              "<style scoped>\n",
              "    .dataframe tbody tr th:only-of-type {\n",
              "        vertical-align: middle;\n",
              "    }\n",
              "\n",
              "    .dataframe tbody tr th {\n",
              "        vertical-align: top;\n",
              "    }\n",
              "\n",
              "    .dataframe thead th {\n",
              "        text-align: right;\n",
              "    }\n",
              "</style>\n",
              "<table border=\"1\" class=\"dataframe\">\n",
              "  <thead>\n",
              "    <tr style=\"text-align: right;\">\n",
              "      <th></th>\n",
              "      <th>names</th>\n",
              "      <th>scores</th>\n",
              "    </tr>\n",
              "  </thead>\n",
              "  <tbody>\n",
              "    <tr>\n",
              "      <th>0</th>\n",
              "      <td>abc</td>\n",
              "      <td>NaN</td>\n",
              "    </tr>\n",
              "  </tbody>\n",
              "</table>\n",
              "</div>\n",
              "      <button class=\"colab-df-convert\" onclick=\"convertToInteractive('df-cc3e3d91-95cc-4ebe-9648-e2cc9391fde9')\"\n",
              "              title=\"Convert this dataframe to an interactive table.\"\n",
              "              style=\"display:none;\">\n",
              "        \n",
              "  <svg xmlns=\"http://www.w3.org/2000/svg\" height=\"24px\"viewBox=\"0 0 24 24\"\n",
              "       width=\"24px\">\n",
              "    <path d=\"M0 0h24v24H0V0z\" fill=\"none\"/>\n",
              "    <path d=\"M18.56 5.44l.94 2.06.94-2.06 2.06-.94-2.06-.94-.94-2.06-.94 2.06-2.06.94zm-11 1L8.5 8.5l.94-2.06 2.06-.94-2.06-.94L8.5 2.5l-.94 2.06-2.06.94zm10 10l.94 2.06.94-2.06 2.06-.94-2.06-.94-.94-2.06-.94 2.06-2.06.94z\"/><path d=\"M17.41 7.96l-1.37-1.37c-.4-.4-.92-.59-1.43-.59-.52 0-1.04.2-1.43.59L10.3 9.45l-7.72 7.72c-.78.78-.78 2.05 0 2.83L4 21.41c.39.39.9.59 1.41.59.51 0 1.02-.2 1.41-.59l7.78-7.78 2.81-2.81c.8-.78.8-2.07 0-2.86zM5.41 20L4 18.59l7.72-7.72 1.47 1.35L5.41 20z\"/>\n",
              "  </svg>\n",
              "      </button>\n",
              "      \n",
              "  <style>\n",
              "    .colab-df-container {\n",
              "      display:flex;\n",
              "      flex-wrap:wrap;\n",
              "      gap: 12px;\n",
              "    }\n",
              "\n",
              "    .colab-df-convert {\n",
              "      background-color: #E8F0FE;\n",
              "      border: none;\n",
              "      border-radius: 50%;\n",
              "      cursor: pointer;\n",
              "      display: none;\n",
              "      fill: #1967D2;\n",
              "      height: 32px;\n",
              "      padding: 0 0 0 0;\n",
              "      width: 32px;\n",
              "    }\n",
              "\n",
              "    .colab-df-convert:hover {\n",
              "      background-color: #E2EBFA;\n",
              "      box-shadow: 0px 1px 2px rgba(60, 64, 67, 0.3), 0px 1px 3px 1px rgba(60, 64, 67, 0.15);\n",
              "      fill: #174EA6;\n",
              "    }\n",
              "\n",
              "    [theme=dark] .colab-df-convert {\n",
              "      background-color: #3B4455;\n",
              "      fill: #D2E3FC;\n",
              "    }\n",
              "\n",
              "    [theme=dark] .colab-df-convert:hover {\n",
              "      background-color: #434B5C;\n",
              "      box-shadow: 0px 1px 3px 1px rgba(0, 0, 0, 0.15);\n",
              "      filter: drop-shadow(0px 1px 2px rgba(0, 0, 0, 0.3));\n",
              "      fill: #FFFFFF;\n",
              "    }\n",
              "  </style>\n",
              "\n",
              "      <script>\n",
              "        const buttonEl =\n",
              "          document.querySelector('#df-cc3e3d91-95cc-4ebe-9648-e2cc9391fde9 button.colab-df-convert');\n",
              "        buttonEl.style.display =\n",
              "          google.colab.kernel.accessAllowed ? 'block' : 'none';\n",
              "\n",
              "        async function convertToInteractive(key) {\n",
              "          const element = document.querySelector('#df-cc3e3d91-95cc-4ebe-9648-e2cc9391fde9');\n",
              "          const dataTable =\n",
              "            await google.colab.kernel.invokeFunction('convertToInteractive',\n",
              "                                                     [key], {});\n",
              "          if (!dataTable) return;\n",
              "\n",
              "          const docLinkHtml = 'Like what you see? Visit the ' +\n",
              "            '<a target=\"_blank\" href=https://colab.research.google.com/notebooks/data_table.ipynb>data table notebook</a>'\n",
              "            + ' to learn more about interactive tables.';\n",
              "          element.innerHTML = '';\n",
              "          dataTable['output_type'] = 'display_data';\n",
              "          await google.colab.output.renderOutput(dataTable, element);\n",
              "          const docLink = document.createElement('div');\n",
              "          docLink.innerHTML = docLinkHtml;\n",
              "          element.appendChild(docLink);\n",
              "        }\n",
              "      </script>\n",
              "    </div>\n",
              "  </div>\n",
              "  "
            ]
          },
          "metadata": {},
          "execution_count": 10
        }
      ]
    },
    {
      "cell_type": "code",
      "source": [
        "#How will you create a series from dict in Pandas?\n",
        "dic={'stu':'abc',\n",
        "     'marks':78,\n",
        "     'gender':'F'}\n",
        "labels=[0,1,2]\n",
        "import pandas as pd\n",
        "pdic=pd.Series(dic)\n",
        "pdic"
      ],
      "metadata": {
        "id": "yW8W0zjbF6ZL",
        "colab": {
          "base_uri": "https://localhost:8080/"
        },
        "outputId": "a299c725-4b5c-42eb-a336-b702806bb0a3"
      },
      "execution_count": null,
      "outputs": [
        {
          "output_type": "execute_result",
          "data": {
            "text/plain": [
              "stu       abc\n",
              "marks      78\n",
              "gender      F\n",
              "dtype: object"
            ]
          },
          "metadata": {},
          "execution_count": 14
        }
      ]
    },
    {
      "cell_type": "code",
      "source": [
        "#Write code to get the last column of a dataframe.\n",
        "x={'stu':['abc','def','xyz','pqr'],\n",
        "'marks':[87,67,56,67],\n",
        "'gender':['f','m','f','m']}\n",
        "df=pd.DataFrame(x)\n",
        "print(df)\n",
        "print('-------------------')\n",
        "s=df.shape[1]\n",
        "print(df.iloc[:,[s-1]])"
      ],
      "metadata": {
        "id": "ltTsFX6XGbAZ",
        "colab": {
          "base_uri": "https://localhost:8080/"
        },
        "outputId": "b6ea1765-bc31-4e96-80dc-2932f741c31d"
      },
      "execution_count": null,
      "outputs": [
        {
          "output_type": "stream",
          "name": "stdout",
          "text": [
            "   stu  marks gender\n",
            "0  abc     87      f\n",
            "1  def     67      m\n",
            "2  xyz     56      f\n",
            "3  pqr     67      m\n",
            "-------------------\n",
            "  gender\n",
            "0      f\n",
            "1      m\n",
            "2      f\n",
            "3      m\n"
          ]
        }
      ]
    },
    {
      "cell_type": "code",
      "source": [
        "#\"Write a Pandas program to create the mean and standard deviation of the data of a given Series\n",
        "#Series:1 2 3 4 5 6 7 8 9 5 3\n",
        "s=[1,2,3,4,5,6,7,8,9,5,3]\n",
        "ds=pd.Series(s)\n",
        "print('mean of the series : ',ds.mean())\n",
        "print('standard deviation :',ds.std())"
      ],
      "metadata": {
        "id": "-VJZF9NuGAra",
        "colab": {
          "base_uri": "https://localhost:8080/"
        },
        "outputId": "31b7401d-37d4-411f-ee06-eb828dbf6a99"
      },
      "execution_count": null,
      "outputs": [
        {
          "output_type": "stream",
          "name": "stdout",
          "text": [
            "mean of the series :  4.818181818181818\n",
            "standard deviation : 2.522624895547565\n"
          ]
        }
      ]
    },
    {
      "cell_type": "code",
      "source": [
        "#Brands:maruti,hyundai,tata,mahindra,maruti,hyundai,renault,tata,maruti\n",
        "#Year:2012,2014,2011,2015,2012,2016,2014,2018,2019\n",
        " #     Mileage:28,27,25,26,28,29,24,21,24\n",
        "  #1.update values of Mileage as 22 if Year < 2015\n",
        "  #2.display  cars with brand 'Maruti' and Mileage > 25 (use loc)\"\n",
        "dic={'Brands':['maruti','hyundai','tata','mahindra','maruti','hyundai','renault','tata','maruti'],\n",
        "     'Year':[2012,2014,2011,2015,2012,2016,2014,2018,2019],\n",
        "     'Mileage':[28,27,25,26,28,29,24,21,24]}\n",
        "df=pd.DataFrame(dic)\n",
        "print(df)\n",
        "print('-------------------------')\n",
        "for j,i in enumerate(df['Year']):\n",
        "  if i<2015:\n",
        "    df['Mileage'][j]=22\n",
        "for i,j in enumerate(df['Mileage']):\n",
        "  if j>25:\n",
        "    df['Brands'][i]='Maruti'\n",
        "print(df)"
      ],
      "metadata": {
        "id": "o-Ysy4sMGcO4",
        "colab": {
          "base_uri": "https://localhost:8080/"
        },
        "outputId": "1d3a8492-72ea-48c7-e980-aed893ef6603"
      },
      "execution_count": null,
      "outputs": [
        {
          "output_type": "stream",
          "name": "stdout",
          "text": [
            "     Brands  Year  Mileage\n",
            "0    maruti  2012       28\n",
            "1   hyundai  2014       27\n",
            "2      tata  2011       25\n",
            "3  mahindra  2015       26\n",
            "4    maruti  2012       28\n",
            "5   hyundai  2016       29\n",
            "6   renault  2014       24\n",
            "7      tata  2018       21\n",
            "8    maruti  2019       24\n",
            "-------------------------\n",
            "    Brands  Year  Mileage\n",
            "0   maruti  2012       22\n",
            "1  hyundai  2014       22\n",
            "2     tata  2011       22\n",
            "3   Maruti  2015       26\n",
            "4   maruti  2012       22\n",
            "5   Maruti  2016       29\n",
            "6  renault  2014       22\n",
            "7     tata  2018       21\n",
            "8   maruti  2019       24\n"
          ]
        },
        {
          "output_type": "stream",
          "name": "stderr",
          "text": [
            "/usr/local/lib/python3.7/dist-packages/ipykernel_launcher.py:14: SettingWithCopyWarning: \n",
            "A value is trying to be set on a copy of a slice from a DataFrame\n",
            "\n",
            "See the caveats in the documentation: https://pandas.pydata.org/pandas-docs/stable/user_guide/indexing.html#returning-a-view-versus-a-copy\n",
            "  \n",
            "/usr/local/lib/python3.7/dist-packages/ipykernel_launcher.py:17: SettingWithCopyWarning: \n",
            "A value is trying to be set on a copy of a slice from a DataFrame\n",
            "\n",
            "See the caveats in the documentation: https://pandas.pydata.org/pandas-docs/stable/user_guide/indexing.html#returning-a-view-versus-a-copy\n"
          ]
        }
      ]
    },
    {
      "cell_type": "code",
      "source": [
        "#Write a Python programming to create a pie chart of gold medal achievements of \n",
        "#five most successful countries in 2016 Summer Olympics. Read the data from a \n",
        "#csv file. \n",
        "#Sample data:\n",
        "#medal.csv\n",
        "#country,gold_medal\n",
        "#United States,46\n",
        "#Great Britain,27\n",
        "#China,26\n",
        "#Russia,19\n",
        "#Germany,17\"\n",
        "import matplotlib.pyplot as plt\n",
        "x=pd.read_csv('/content/sample_data/olympic.txt')\n",
        "print(x)\n",
        "plt.pie(x['goldmedals'],labels=x['countries'],autopct='%.2f',explode=[0.1,0,0.1,0,0.1,0])\n",
        "plt.show()"
      ],
      "metadata": {
        "id": "ePhOf0IIGqup",
        "colab": {
          "base_uri": "https://localhost:8080/",
          "height": 370
        },
        "outputId": "4dfe8ced-ac57-430a-ea97-0099bd764f10"
      },
      "execution_count": null,
      "outputs": [
        {
          "output_type": "stream",
          "name": "stdout",
          "text": [
            "       countries  goldmedals\n",
            "0            USA          46\n",
            "1  Great Britain          27\n",
            "2          China          26\n",
            "3         Russia          19\n",
            "4        Germany          17\n",
            "5          India           9\n"
          ]
        },
        {
          "output_type": "display_data",
          "data": {
            "text/plain": [
              "<Figure size 432x288 with 1 Axes>"
            ],
            "image/png": "[encoded data removed]"
          },
          "metadata": {}
        }
      ]
    },
    {
      "cell_type": "code",
      "source": [
        "def findMedian(a, n):\n",
        " \n",
        "    # First we sort the array\n",
        "    sorted(a)\n",
        " \n",
        "    # Check for even case\n",
        "    if n % 2 != 0:\n",
        "        return float(a[n // 2])\n",
        " \n",
        "    return float((a[int((n-1)/2)] +\n",
        "                  a[int(n / 2)])/2.0)\n",
        " \n",
        " \n",
        "# Driver program\n",
        "a = [1, 3, 4, 2, 7, 5, 8, 6]\n",
        "n = len(a)\n",
        "print(\"Median =\", findMedian(a, n))"
      ],
      "metadata": {
        "colab": {
          "base_uri": "https://localhost:8080/"
        },
        "id": "QnyKGGnuoaGM",
        "outputId": "819e4b8c-fcfa-4415-c557-94642610e765"
      },
      "execution_count": null,
      "outputs": [
        {
          "output_type": "stream",
          "name": "stdout",
          "text": [
            "Median = 4.5\n"
          ]
        }
      ]
    },
    {
      "cell_type": "code",
      "source": [
        "a = [1, 3, 4, 2, 7, 5, 8, 6]\n",
        "sl=[]\n",
        "sl=sorted(a)\n",
        "sl"
      ],
      "metadata": {
        "colab": {
          "base_uri": "https://localhost:8080/"
        },
        "id": "ocqaVWGjpsum",
        "outputId": "dbb8ce50-0943-4c9e-edc7-8cbe03215581"
      },
      "execution_count": null,
      "outputs": [
        {
          "output_type": "execute_result",
          "data": {
            "text/plain": [
              "[1, 2, 3, 4, 5, 6, 7, 8]"
            ]
          },
          "metadata": {},
          "execution_count": 2
        }
      ]
    },
    {
      "cell_type": "code",
      "source": [
        "#\"Write a Python program to draw a scatter plot with empty circles taking a random distribution in\n",
        " #X and Y and plotted against each other.\""
      ],
      "metadata": {
        "id": "uEEDVRU2GuTM"
      },
      "execution_count": null,
      "outputs": []
    },
    {
      "cell_type": "code",
      "source": [
        "#Write code to fill missing values with previous records value.\n"
      ],
      "metadata": {
        "id": "KLZoOlNfx32_"
      },
      "execution_count": null,
      "outputs": []
    },
    {
      "cell_type": "code",
      "source": [
        "#Given a dataframe, write code to select alternate records"
      ],
      "metadata": {
        "id": "bX7q67HqHsSh"
      },
      "execution_count": null,
      "outputs": []
    },
    {
      "cell_type": "code",
      "source": [
        "#Remove the records with missing values.\n",
        "import numpy as np\n",
        "x={'stu':['abc','def','xyz','pqr','dgfd'],\n",
        "'marks':[87,67,56,67,np.NaN],\n",
        "'gender':['f',np.NaN,'f','m','f']}\n",
        "df=pd.DataFrame(x)\n",
        "print(df)\n",
        "print('-----------------------')\n",
        "\n",
        "df[df['marks'].isnull()].drop(columns=['marks'],inplace=True)\n",
        "df"
      ],
      "metadata": {
        "id": "ZFF8Q-ZoGkLx",
        "colab": {
          "base_uri": "https://localhost:8080/",
          "height": 434
        },
        "outputId": "d6a4cf4e-beff-44aa-fafd-d69646272f32"
      },
      "execution_count": null,
      "outputs": [
        {
          "output_type": "stream",
          "name": "stdout",
          "text": [
            "    stu  marks gender\n",
            "0   abc   87.0      f\n",
            "1   def   67.0    NaN\n",
            "2   xyz   56.0      f\n",
            "3   pqr   67.0      m\n",
            "4  dgfd    NaN      f\n",
            "-----------------------\n"
          ]
        },
        {
          "output_type": "stream",
          "name": "stderr",
          "text": [
            "/usr/local/lib/python3.7/dist-packages/pandas/core/frame.py:4913: SettingWithCopyWarning: \n",
            "A value is trying to be set on a copy of a slice from a DataFrame\n",
            "\n",
            "See the caveats in the documentation: https://pandas.pydata.org/pandas-docs/stable/user_guide/indexing.html#returning-a-view-versus-a-copy\n",
            "  errors=errors,\n"
          ]
        },
        {
          "output_type": "execute_result",
          "data": {
            "text/plain": [
              "    stu  marks gender\n",
              "0   abc   87.0      f\n",
              "1   def   67.0    NaN\n",
              "2   xyz   56.0      f\n",
              "3   pqr   67.0      m\n",
              "4  dgfd    NaN      f"
            ],
            "text/html": [
              "\n",
              "  <div id=\"df-876ca5d6-65d7-45c1-b948-054523da6830\">\n",
              "    <div class=\"colab-df-container\">\n",
              "      <div>\n",
              "<style scoped>\n",
              "    .dataframe tbody tr th:only-of-type {\n",
              "        vertical-align: middle;\n",
              "    }\n",
              "\n",
              "    .dataframe tbody tr th {\n",
              "        vertical-align: top;\n",
              "    }\n",
              "\n",
              "    .dataframe thead th {\n",
              "        text-align: right;\n",
              "    }\n",
              "</style>\n",
              "<table border=\"1\" class=\"dataframe\">\n",
              "  <thead>\n",
              "    <tr style=\"text-align: right;\">\n",
              "      <th></th>\n",
              "      <th>stu</th>\n",
              "      <th>marks</th>\n",
              "      <th>gender</th>\n",
              "    </tr>\n",
              "  </thead>\n",
              "  <tbody>\n",
              "    <tr>\n",
              "      <th>0</th>\n",
              "      <td>abc</td>\n",
              "      <td>87.0</td>\n",
              "      <td>f</td>\n",
              "    </tr>\n",
              "    <tr>\n",
              "      <th>1</th>\n",
              "      <td>def</td>\n",
              "      <td>67.0</td>\n",
              "      <td>NaN</td>\n",
              "    </tr>\n",
              "    <tr>\n",
              "      <th>2</th>\n",
              "      <td>xyz</td>\n",
              "      <td>56.0</td>\n",
              "      <td>f</td>\n",
              "    </tr>\n",
              "    <tr>\n",
              "      <th>3</th>\n",
              "      <td>pqr</td>\n",
              "      <td>67.0</td>\n",
              "      <td>m</td>\n",
              "    </tr>\n",
              "    <tr>\n",
              "      <th>4</th>\n",
              "      <td>dgfd</td>\n",
              "      <td>NaN</td>\n",
              "      <td>f</td>\n",
              "    </tr>\n",
              "  </tbody>\n",
              "</table>\n",
              "</div>\n",
              "      <button class=\"colab-df-convert\" onclick=\"convertToInteractive('df-876ca5d6-65d7-45c1-b948-054523da6830')\"\n",
              "              title=\"Convert this dataframe to an interactive table.\"\n",
              "              style=\"display:none;\">\n",
              "        \n",
              "  <svg xmlns=\"http://www.w3.org/2000/svg\" height=\"24px\"viewBox=\"0 0 24 24\"\n",
              "       width=\"24px\">\n",
              "    <path d=\"M0 0h24v24H0V0z\" fill=\"none\"/>\n",
              "    <path d=\"M18.56 5.44l.94 2.06.94-2.06 2.06-.94-2.06-.94-.94-2.06-.94 2.06-2.06.94zm-11 1L8.5 8.5l.94-2.06 2.06-.94-2.06-.94L8.5 2.5l-.94 2.06-2.06.94zm10 10l.94 2.06.94-2.06 2.06-.94-2.06-.94-.94-2.06-.94 2.06-2.06.94z\"/><path d=\"M17.41 7.96l-1.37-1.37c-.4-.4-.92-.59-1.43-.59-.52 0-1.04.2-1.43.59L10.3 9.45l-7.72 7.72c-.78.78-.78 2.05 0 2.83L4 21.41c.39.39.9.59 1.41.59.51 0 1.02-.2 1.41-.59l7.78-7.78 2.81-2.81c.8-.78.8-2.07 0-2.86zM5.41 20L4 18.59l7.72-7.72 1.47 1.35L5.41 20z\"/>\n",
              "  </svg>\n",
              "      </button>\n",
              "      \n",
              "  <style>\n",
              "    .colab-df-container {\n",
              "      display:flex;\n",
              "      flex-wrap:wrap;\n",
              "      gap: 12px;\n",
              "    }\n",
              "\n",
              "    .colab-df-convert {\n",
              "      background-color: #E8F0FE;\n",
              "      border: none;\n",
              "      border-radius: 50%;\n",
              "      cursor: pointer;\n",
              "      display: none;\n",
              "      fill: #1967D2;\n",
              "      height: 32px;\n",
              "      padding: 0 0 0 0;\n",
              "      width: 32px;\n",
              "    }\n",
              "\n",
              "    .colab-df-convert:hover {\n",
              "      background-color: #E2EBFA;\n",
              "      box-shadow: 0px 1px 2px rgba(60, 64, 67, 0.3), 0px 1px 3px 1px rgba(60, 64, 67, 0.15);\n",
              "      fill: #174EA6;\n",
              "    }\n",
              "\n",
              "    [theme=dark] .colab-df-convert {\n",
              "      background-color: #3B4455;\n",
              "      fill: #D2E3FC;\n",
              "    }\n",
              "\n",
              "    [theme=dark] .colab-df-convert:hover {\n",
              "      background-color: #434B5C;\n",
              "      box-shadow: 0px 1px 3px 1px rgba(0, 0, 0, 0.15);\n",
              "      filter: drop-shadow(0px 1px 2px rgba(0, 0, 0, 0.3));\n",
              "      fill: #FFFFFF;\n",
              "    }\n",
              "  </style>\n",
              "\n",
              "      <script>\n",
              "        const buttonEl =\n",
              "          document.querySelector('#df-876ca5d6-65d7-45c1-b948-054523da6830 button.colab-df-convert');\n",
              "        buttonEl.style.display =\n",
              "          google.colab.kernel.accessAllowed ? 'block' : 'none';\n",
              "\n",
              "        async function convertToInteractive(key) {\n",
              "          const element = document.querySelector('#df-876ca5d6-65d7-45c1-b948-054523da6830');\n",
              "          const dataTable =\n",
              "            await google.colab.kernel.invokeFunction('convertToInteractive',\n",
              "                                                     [key], {});\n",
              "          if (!dataTable) return;\n",
              "\n",
              "          const docLinkHtml = 'Like what you see? Visit the ' +\n",
              "            '<a target=\"_blank\" href=https://colab.research.google.com/notebooks/data_table.ipynb>data table notebook</a>'\n",
              "            + ' to learn more about interactive tables.';\n",
              "          element.innerHTML = '';\n",
              "          dataTable['output_type'] = 'display_data';\n",
              "          await google.colab.output.renderOutput(dataTable, element);\n",
              "          const docLink = document.createElement('div');\n",
              "          docLink.innerHTML = docLinkHtml;\n",
              "          element.appendChild(docLink);\n",
              "        }\n",
              "      </script>\n",
              "    </div>\n",
              "  </div>\n",
              "  "
            ]
          },
          "metadata": {},
          "execution_count": 34
        }
      ]
    },
    {
      "cell_type": "code",
      "source": [
        "#Write a Pandas program to create a time-series from a given list of dates as strings."
      ],
      "metadata": {
        "id": "kWFTvthNG1JR"
      },
      "execution_count": null,
      "outputs": []
    },
    {
      "cell_type": "code",
      "source": [
        "#Write a Pandas program to select the rows where the score is missing, i.e. is NaN."
      ],
      "metadata": {
        "id": "PvoCIv-eG2H4"
      },
      "execution_count": null,
      "outputs": []
    },
    {
      "cell_type": "code",
      "source": [
        "#30.Write a Pandas program to Combine two DataFrame objects by filling null values in one \n",
        "#DataFrame with non-null values from other DataFrame. \n",
        "#Original DataFrames:\n",
        " #    A          B\n",
        "#0  NaN      3\n",
        "#1  0.0        4\n",
        "#2  NaN      5\n",
        "\n",
        " # A              B\n",
        "#0  1          3.0\n",
        "#1  1         NaN\n",
        "#2  3           3.0"
      ],
      "metadata": {
        "id": "rSnB9hXMFWui"
      },
      "execution_count": null,
      "outputs": []
    },
    {
      "cell_type": "code",
      "source": [
        "#\"30.Write a Pandas program to Combine two DataFrame objects by filling null values in one\n",
        "# DataFrame with non-null values from other DataFrame.\n",
        "#Original DataFrames:\n",
        "#A B\n",
        "#0 NaN 3\n",
        "#1 0.0 4\n",
        "#2 NaN 5\n",
        "\n",
        "#A B\n",
        "#0 1 3.0\n",
        "#1 1 NaN\n",
        "#2 3 3.0\n",
        "import pandas as pd\n",
        "d1={'A':[np.NaN,3,np.NaN],'B':[0,4,np.NaN]}\n",
        "df1=pd.DataFrame(d1)\n",
        "d2={'A':[1,2,3],'B':[4,np.NaN,9]}\n",
        "df2=pd.DataFrame(d2)\n"
      ],
      "metadata": {
        "id": "eyCCh7QU6PwW"
      },
      "execution_count": null,
      "outputs": []
    },
    {
      "cell_type": "code",
      "source": [
        "import pandas as pd\n",
        "# World alcohol consumption data\n",
        "w_a_con = pd.read_csv('/content/sample_data/mtcars (1).csv')\n",
        "print(\"World alcohol consumption sample data:\")\n",
        "print(w_a_con.head())\n",
        "print(\"\\nFrom the 'Year' column, access every other column:\")\n",
        "print(w_a_con.loc[:,'Type'::2].head(10))\n",
        "print(\"\\nAlternate solution:\")\n",
        "print(w_a_con.iloc[:,0::2].head(10))"
      ],
      "metadata": {
        "colab": {
          "base_uri": "https://localhost:8080/"
        },
        "id": "nSZNdWnsH7K4",
        "outputId": "daa04b07-3bc7-4e59-f173-c2fb17fbbf8f"
      },
      "execution_count": null,
      "outputs": [
        {
          "output_type": "stream",
          "name": "stdout",
          "text": [
            "World alcohol consumption sample data:\n",
            "                Type   mpg  cyl   disp   hp  drat     wt   qsec  vs  am  gear  \\\n",
            "0          Mazda RX4  21.0    6  160.0  110  3.90  2.620  16.46   0   1     4   \n",
            "1      Mazda RX4 Wag  21.0    6  160.0  110  3.90  2.875  17.02   0   1     4   \n",
            "2         Datsun 710  22.8    4  108.0   93  3.85  2.320  18.61   1   1     4   \n",
            "3     Hornet 4 Drive  21.4    6  258.0  110  3.08  3.215  19.44   1   0     3   \n",
            "4  Hornet Sportabout  18.7    8  360.0  175  3.15  3.440  17.02   0   0     3   \n",
            "\n",
            "   carb  \n",
            "0     4  \n",
            "1     4  \n",
            "2     1  \n",
            "3     1  \n",
            "4     2  \n",
            "\n",
            "From the 'Year' column, access every other column:\n",
            "                Type  cyl   hp     wt  vs  gear\n",
            "0          Mazda RX4    6  110  2.620   0     4\n",
            "1      Mazda RX4 Wag    6  110  2.875   0     4\n",
            "2         Datsun 710    4   93  2.320   1     4\n",
            "3     Hornet 4 Drive    6  110  3.215   1     3\n",
            "4  Hornet Sportabout    8  175  3.440   0     3\n",
            "5            Valiant    6  105  3.460   1     3\n",
            "6         Duster 360    8  245  3.570   0     3\n",
            "7          Merc 240D    4   62  3.190   1     4\n",
            "8           Merc 230    4   95  3.150   1     4\n",
            "9           Merc 280    6  123  3.440   1     4\n",
            "\n",
            "Alternate solution:\n",
            "                Type  cyl   hp     wt  vs  gear\n",
            "0          Mazda RX4    6  110  2.620   0     4\n",
            "1      Mazda RX4 Wag    6  110  2.875   0     4\n",
            "2         Datsun 710    4   93  2.320   1     4\n",
            "3     Hornet 4 Drive    6  110  3.215   1     3\n",
            "4  Hornet Sportabout    8  175  3.440   0     3\n",
            "5            Valiant    6  105  3.460   1     3\n",
            "6         Duster 360    8  245  3.570   0     3\n",
            "7          Merc 240D    4   62  3.190   1     4\n",
            "8           Merc 230    4   95  3.150   1     4\n",
            "9           Merc 280    6  123  3.440   1     4\n"
          ]
        }
      ]
    },
    {
      "cell_type": "code",
      "source": [
        "#Given a dataframe, write code to select alternate records\n",
        "x={'names':['Rajitha Ramineni','shanaya varma','nandan varma','abc','def','pqr','def'],\n",
        "   'values':[12,23,34,45,56,67,78]}\n",
        "df=pd.DataFrame(x)\n",
        "print(df)\n",
        "print('--------------------')\n",
        "df.loc[:,'names'::2]\n",
        "print(df)\n",
        "print('--------------------------')\n",
        "print(df.iloc[:,::2])"
      ],
      "metadata": {
        "colab": {
          "base_uri": "https://localhost:8080/"
        },
        "id": "GfUbZt1nB-EA",
        "outputId": "9004032d-9891-402f-cb61-12bc2405710a"
      },
      "execution_count": null,
      "outputs": [
        {
          "output_type": "stream",
          "name": "stdout",
          "text": [
            "              names  values\n",
            "0  Rajitha Ramineni      12\n",
            "1     shanaya varma      23\n",
            "2      nandan varma      34\n",
            "3               abc      45\n",
            "4               def      56\n",
            "5               pqr      67\n",
            "6               def      78\n",
            "--------------------\n",
            "              names  values\n",
            "0  Rajitha Ramineni      12\n",
            "1     shanaya varma      23\n",
            "2      nandan varma      34\n",
            "3               abc      45\n",
            "4               def      56\n",
            "5               pqr      67\n",
            "6               def      78\n",
            "--------------------------\n",
            "              names\n",
            "0  Rajitha Ramineni\n",
            "1     shanaya varma\n",
            "2      nandan varma\n",
            "3               abc\n",
            "4               def\n",
            "5               pqr\n",
            "6               def\n"
          ]
        }
      ]
    },
    {
      "cell_type": "code",
      "source": [
        "import seaborn as sns\n",
        "sns.histplot(df , x = 'cyl' , bins = n)\n",
        "plt.xticks(df['cyl'].unique() )\n",
        "plt.show()"
      ],
      "metadata": {
        "id": "wofP-Q2O_n3B",
        "colab": {
          "base_uri": "https://localhost:8080/",
          "height": 217
        },
        "outputId": "036a89ea-435a-419b-c5db-4eda435cd198"
      },
      "execution_count": null,
      "outputs": [
        {
          "output_type": "error",
          "ename": "NameError",
          "evalue": "ignored",
          "traceback": [
            "\u001b[0;31m---------------------------------------------------------------------------\u001b[0m",
            "\u001b[0;31mNameError\u001b[0m                                 Traceback (most recent call last)",
            "\u001b[0;32m<ipython-input-8-e005ebc324e5>\u001b[0m in \u001b[0;36m<module>\u001b[0;34m\u001b[0m\n\u001b[1;32m      1\u001b[0m \u001b[0;32mimport\u001b[0m \u001b[0mseaborn\u001b[0m \u001b[0;32mas\u001b[0m \u001b[0msns\u001b[0m\u001b[0;34m\u001b[0m\u001b[0;34m\u001b[0m\u001b[0m\n\u001b[0;32m----> 2\u001b[0;31m \u001b[0msns\u001b[0m\u001b[0;34m.\u001b[0m\u001b[0mhistplot\u001b[0m\u001b[0;34m(\u001b[0m\u001b[0mdf\u001b[0m \u001b[0;34m,\u001b[0m \u001b[0mx\u001b[0m \u001b[0;34m=\u001b[0m \u001b[0;34m'cyl'\u001b[0m \u001b[0;34m,\u001b[0m \u001b[0mbins\u001b[0m \u001b[0;34m=\u001b[0m \u001b[0mn\u001b[0m\u001b[0;34m)\u001b[0m\u001b[0;34m\u001b[0m\u001b[0;34m\u001b[0m\u001b[0m\n\u001b[0m\u001b[1;32m      3\u001b[0m \u001b[0mplt\u001b[0m\u001b[0;34m.\u001b[0m\u001b[0mxticks\u001b[0m\u001b[0;34m(\u001b[0m\u001b[0mdf\u001b[0m\u001b[0;34m[\u001b[0m\u001b[0;34m'cyl'\u001b[0m\u001b[0;34m]\u001b[0m\u001b[0;34m.\u001b[0m\u001b[0munique\u001b[0m\u001b[0;34m(\u001b[0m\u001b[0;34m)\u001b[0m \u001b[0;34m)\u001b[0m\u001b[0;34m\u001b[0m\u001b[0;34m\u001b[0m\u001b[0m\n\u001b[1;32m      4\u001b[0m \u001b[0mplt\u001b[0m\u001b[0;34m.\u001b[0m\u001b[0mshow\u001b[0m\u001b[0;34m(\u001b[0m\u001b[0;34m)\u001b[0m\u001b[0;34m\u001b[0m\u001b[0;34m\u001b[0m\u001b[0m\n",
            "\u001b[0;31mNameError\u001b[0m: name 'df' is not defined"
          ]
        }
      ]
    },
    {
      "cell_type": "code",
      "source": [
        "#\"Write a Python program to create bar plots with error bars on the same figure.\n",
        "#Sample Date\n",
        "#Mean velocity: 0.2474, 0.1235, 0.1737, 0.1824\n",
        "#Standard deviation of velocity: 0.3314, 0.2278, 0.2836, 0.2645\n",
        "import matplotlib.pyplot as plt\n",
        "m_vel=[0.2474, 0.1235, 0.1737, 0.1824]\n",
        "sd=[0.3314, 0.2278, 0.2836, 0.2645]\n",
        "plt.bar(m_vel,sd,width=0.4)\n",
        "plt.show()"
      ],
      "metadata": {
        "id": "5NVMJ34C8AE_",
        "colab": {
          "base_uri": "https://localhost:8080/",
          "height": 265
        },
        "outputId": "ce3e3910-f8fe-46f0-e7f8-d07d40ccd1a7"
      },
      "execution_count": null,
      "outputs": [
        {
          "output_type": "display_data",
          "data": {
            "text/plain": [
              "<Figure size 432x288 with 1 Axes>"
            ],
            "image/png": "[encoded data removed]"
          },
          "metadata": {
            "needs_background": "light"
          }
        }
      ]
    }
  ]
}