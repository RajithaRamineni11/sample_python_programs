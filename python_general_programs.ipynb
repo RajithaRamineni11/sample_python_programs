{
  "nbformat": 4,
  "nbformat_minor": 0,
  "metadata": {
    "colab": {
      "provenance": [],
      "collapsed_sections": [],
      "toc_visible": true
    },
    "kernelspec": {
      "name": "python3",
      "display_name": "Python 3"
    },
    "language_info": {
      "name": "python"
    }
  },
  "cells": [
    {
      "cell_type": "code",
      "execution_count": 1,
      "metadata": {
        "colab": {
          "base_uri": "https://localhost:8080/"
        },
        "id": "MSwj2MUzX1sO",
        "outputId": "93d79540-9ac0-4495-f948-d9d6b75ea127"
      },
      "outputs": [
        {
          "output_type": "stream",
          "name": "stdout",
          "text": [
            "5\n",
            "1\n",
            "2\n",
            "3\n",
            "4\n",
            "5\n"
          ]
        }
      ],
      "source": [
        "#generation of first 'n' integers\n",
        "n=int(input())\n",
        "i=0\n",
        "while i<n:\n",
        "  print(i+1)\n",
        "  i+=1"
      ]
    },
    {
      "cell_type": "code",
      "source": [
        "#WAP TO FIND THE SUM OF 'N' INTEGERS\n",
        "n=int(input())\n",
        "i,sum=0,0\n",
        "while i<=n:\n",
        "  sum=sum+i\n",
        "  i+=1\n",
        "print('sum of ',n,'integers = ',sum)\n"
      ],
      "metadata": {
        "colab": {
          "base_uri": "https://localhost:8080/"
        },
        "id": "z1A4faStZj2h",
        "outputId": "69eb2668-dac2-41de-ca76-92e6852b299f"
      },
      "execution_count": 3,
      "outputs": [
        {
          "output_type": "stream",
          "name": "stdout",
          "text": [
            "5\n",
            "sum of  5 integers =  15\n"
          ]
        }
      ]
    },
    {
      "cell_type": "code",
      "source": [
        "#WAP TO FIND THE FACTORIAL OF GIVEN NUMBER\n",
        "n=int(input())\n",
        "fac=1\n",
        "while n>0:\n",
        "  fac=fac*n\n",
        "  n=n-1\n",
        "print('factorial of ',n,' given number = ',fac)\n"
      ],
      "metadata": {
        "colab": {
          "base_uri": "https://localhost:8080/"
        },
        "id": "iLx8j-tQaHEj",
        "outputId": "fb4e600a-9443-41bb-ee2e-e189210ed5e2"
      },
      "execution_count": 6,
      "outputs": [
        {
          "output_type": "stream",
          "name": "stdout",
          "text": [
            "5\n",
            "factorial of  0  given number =  120\n"
          ]
        }
      ]
    },
    {
      "cell_type": "code",
      "source": [
        "#WAP TO FIND THE SUM OF GIVEN NUMBER , NUMBER SHOULD BE MORE THAN ONE DIGIT\n",
        "n=int(input('ENTER NUMBER SHOULD BE MORE THAN ONE DIGIT : ')) \n",
        "s=0\n",
        "while n!=0:\n",
        "  m=n%10\n",
        "  s=s+m\n",
        "  n=n//10\n",
        "print('sum of given number  = ',s)"
      ],
      "metadata": {
        "colab": {
          "base_uri": "https://localhost:8080/"
        },
        "id": "iBy-F-9Va5Pa",
        "outputId": "7c2f1b67-d7a5-468d-875f-5babb5ec0778"
      },
      "execution_count": 9,
      "outputs": [
        {
          "output_type": "stream",
          "name": "stdout",
          "text": [
            "ENTER NUMBER SHOULD BE MORE THAN ONE DIGIT : 67867\n",
            "sum of given number  =  34\n"
          ]
        }
      ]
    },
    {
      "cell_type": "code",
      "source": [
        "#reverse of a given number\n",
        "n=int(input('NUMBER SHOULD BE MORE THAN ONE DIGIT : '))\n",
        "m,s=0,0\n",
        "while n!=0:\n",
        "  m=n%10\n",
        "  s=s*10+m\n",
        "  n=int(n/10)\n",
        "print(s)"
      ],
      "metadata": {
        "id": "BlamSm1Kbyf6"
      },
      "execution_count": null,
      "outputs": []
    },
    {
      "cell_type": "code",
      "source": [
        "#WAP TO CHECK GIVEN NUMBER POLINDROM OR NOT\n",
        "n=int(input())\n",
        "p=n\n",
        "m,s=0,0\n",
        "while n!=0:\n",
        "  m=n%10\n",
        "  s=s*10+m\n",
        "  n=n//10\n",
        "if s==p:\n",
        "  print('given no is polindrom')\n",
        "else:\n",
        "  print('not polindrom')"
      ],
      "metadata": {
        "colab": {
          "base_uri": "https://localhost:8080/"
        },
        "id": "T8_gyiAudqFL",
        "outputId": "ffc994b2-d34f-45e4-b21b-89ebd0ab1759"
      },
      "execution_count": 15,
      "outputs": [
        {
          "output_type": "stream",
          "name": "stdout",
          "text": [
            "253\n",
            "not polindrom\n"
          ]
        }
      ]
    },
    {
      "cell_type": "code",
      "source": [
        "#WAP TO CHECK GIVEN NUMBER IS ARMSTRUNG OR NOT\n",
        "n=int(input())\n",
        "armstrung=n\n",
        "s,m=0,0\n",
        "while n!=0:\n",
        "  m=n%10\n",
        "  s=s+m*m*m\n",
        "  n=n//10\n",
        "if s==armstrung:\n",
        "  print('given number is Armstrung')\n",
        "else:\n",
        "  print('not Armstrung number')"
      ],
      "metadata": {
        "colab": {
          "base_uri": "https://localhost:8080/"
        },
        "id": "okmfhewBehRY",
        "outputId": "5c8a09ec-c758-4444-ca4f-a010072280ea"
      },
      "execution_count": 17,
      "outputs": [
        {
          "output_type": "stream",
          "name": "stdout",
          "text": [
            "351\n",
            "not Armstrung number\n"
          ]
        }
      ]
    },
    {
      "cell_type": "code",
      "source": [
        "#WAP TO FIND L.C.M OF GIVEN NUMBER or numbers\n",
        "def lcm(v1,v2):\n",
        "  a,b=v1,v2\n",
        "  lcm=0\n",
        "  while v1!=v2:\n",
        "    if v1>v2:\n",
        "      v1=v1-v2\n",
        "    else:\n",
        "      v2=v2-v1\n",
        "  lcm=(a*b)/v1\n",
        "  print('LCM of given numbers : ',lcm)\n",
        "\n",
        "x=int(input())\n",
        "y=int(input())\n",
        "lcm(x,y)\n"
      ],
      "metadata": {
        "colab": {
          "base_uri": "https://localhost:8080/"
        },
        "id": "8SLXuTUlfqrB",
        "outputId": "cf209d7f-f566-43ad-b384-4d5bbff7f0da"
      },
      "execution_count": 19,
      "outputs": [
        {
          "output_type": "stream",
          "name": "stdout",
          "text": [
            "6\n",
            "8\n",
            "LCM of given numbers :  24.0\n"
          ]
        }
      ]
    },
    {
      "cell_type": "code",
      "source": [
        "##WAP TO FIND L.C.M OF GIVEN NUMBER or numbers\n",
        "def lcmfunc(*args):\n",
        "  l=len(args)\n",
        "  if l==2:\n",
        "    a,b=args[0],args[1]\n",
        "    a1,b1=a,b\n",
        "    while a!=b:\n",
        "      if a>b:\n",
        "        a=a-b\n",
        "      else:\n",
        "        b=b-a\n",
        "    lcm=(a1*b1)/a\n",
        "    print('lcm of given numbers : ',args[0],' , ',args[1],' = ',lcm)\n",
        "\n",
        "  if l==3:\n",
        "    a,b,c=args[0],args[1],args[2]\n",
        "    a1,b1=a,b\n",
        "    while a!=b:\n",
        "      if a>b:\n",
        "        a=a-b\n",
        "      else:\n",
        "        b=b-a\n",
        "    lcm=(a1*b1)/a\n",
        "    print('lcm of first two numbers : ',a1,',',b1,' = ',lcm)\n",
        "    x,y=lcm,c\n",
        "    while lcm!=c:\n",
        "      if lcm>c:\n",
        "        lcm=lcm-c\n",
        "      else:\n",
        "        c=c-lcm\n",
        "    tlcm=(x*y)/c\n",
        "    print('lcm of given numbers : ',args[0],' , ',args[1],' , ',args[2],' = ',tlcm)\n",
        "\n",
        "lcmfunc(int(input()),int(input()))\n",
        "lcmfunc(int(input()),int(input()),int(input()))"
      ],
      "metadata": {
        "colab": {
          "base_uri": "https://localhost:8080/"
        },
        "id": "xyxnzUa_kOLN",
        "outputId": "c1b97fdf-8078-4990-c196-837f130e1461"
      },
      "execution_count": 7,
      "outputs": [
        {
          "output_type": "stream",
          "name": "stdout",
          "text": [
            "12\n",
            "24\n",
            "lcm of given numbers :  12  ,  24  =  24.0\n",
            "12\n",
            "24\n",
            "26\n",
            "lcm of first two numbers :  12 , 24  =  24.0\n",
            "lcm of given numbers :  12  ,  24  ,  26  =  312.0\n"
          ]
        }
      ]
    },
    {
      "cell_type": "code",
      "source": [
        "#GCD OF GIVEN NUMBERS\n",
        "x=int(input())\n",
        "y=int(input())\n",
        "while x!=y:\n",
        "  if x>y:\n",
        "    x=x-y\n",
        "  else:\n",
        "    y=y-x\n",
        "print('gcd of given numbers = ',x)"
      ],
      "metadata": {
        "colab": {
          "base_uri": "https://localhost:8080/"
        },
        "id": "Cu6elR41xldB",
        "outputId": "af092860-5d7b-417a-af6d-3224dfbb4e6c"
      },
      "execution_count": 9,
      "outputs": [
        {
          "output_type": "stream",
          "name": "stdout",
          "text": [
            "12\n",
            "6\n",
            "gcd of given numbers =  6\n"
          ]
        }
      ]
    },
    {
      "cell_type": "code",
      "source": [
        "#WAP TO GENERATE FABONACII SERIES\n",
        "n=int(input('enter fabonacii series for how many digits : '))\n",
        "i,min,max,s=0,0,1,0\n",
        "fs=[]\n",
        "while i<n:\n",
        "  fs.append(min)\n",
        "  s=min+max\n",
        "  min=max\n",
        "  max=s\n",
        "  i+=1\n",
        "print('fabonacii series for ',n,' digits ',fs)"
      ],
      "metadata": {
        "colab": {
          "base_uri": "https://localhost:8080/"
        },
        "id": "Yk4sPZANygOw",
        "outputId": "86627622-4926-493c-dccc-de948db5abad"
      },
      "execution_count": 12,
      "outputs": [
        {
          "output_type": "stream",
          "name": "stdout",
          "text": [
            "enter fabonacii series for how many digits : 7\n",
            "fabonacii series for  7  digits  [0, 1, 1, 2, 3, 5, 8]\n"
          ]
        }
      ]
    },
    {
      "cell_type": "markdown",
      "source": [
        "##WAP to diplay like below\n",
        "          $\n",
        "          $$\n",
        "          $$$\n",
        "          $$$$\n",
        "          $$$$$"
      ],
      "metadata": {
        "id": "mspCs0140Vaz"
      }
    },
    {
      "cell_type": "code",
      "source": [
        "n=int(input())\n",
        "i=0\n",
        "s,stars='*',''\n",
        "while i<n:\n",
        "  for j in range(i): \n",
        "    print(stars,'\\n')\n",
        "    stars=stars+s\n",
        "  i+=1"
      ],
      "metadata": {
        "colab": {
          "base_uri": "https://localhost:8080/"
        },
        "id": "qwDvmJ7N0PSL",
        "outputId": "bb8f3743-7e1b-4392-e3b8-9900e6dc2084"
      },
      "execution_count": 25,
      "outputs": [
        {
          "output_type": "stream",
          "name": "stdout",
          "text": [
            "4\n",
            " \n",
            "\n",
            "* \n",
            "\n",
            "** \n",
            "\n",
            "*** \n",
            "\n",
            "**** \n",
            "\n",
            "***** \n",
            "\n"
          ]
        }
      ]
    },
    {
      "cell_type": "code",
      "source": [
        "#WAP TO DISPLAY ALPHABETS\n",
        "import string\n",
        "print(\"Alphabet from a-z:\")\n",
        "for letter in string.ascii_lowercase:\n",
        "   print(letter, end =\" \")\n",
        "print(\"\\nAlphabet from A-Z:\")\n",
        "for letter in string.ascii_uppercase:\n",
        "   print(letter, end =\" \")\n",
        "\n"
      ],
      "metadata": {
        "colab": {
          "base_uri": "https://localhost:8080/"
        },
        "id": "i9TXjfpV5tNb",
        "outputId": "76ba9540-2107-48dd-975f-9b0796c036a1"
      },
      "execution_count": 28,
      "outputs": [
        {
          "output_type": "stream",
          "name": "stdout",
          "text": [
            "Alphabet from a-z:\n",
            "a b c d e f g h i j k l m n o p q r s t u v w x y z \n",
            "Alphabet from A-Z:\n",
            "A B C D E F G H I J K L M N O P Q R S T U V W X Y Z "
          ]
        }
      ]
    },
    {
      "cell_type": "code",
      "source": [
        "import string\n",
        "print(string)\n",
        "for i in string.ascii_uppercase:\n",
        "  print(i,end=' ')"
      ],
      "metadata": {
        "colab": {
          "base_uri": "https://localhost:8080/"
        },
        "id": "voy1qt5E7Onq",
        "outputId": "09bf4fdb-1a32-48d7-bf1a-c301e4790db1"
      },
      "execution_count": 31,
      "outputs": [
        {
          "output_type": "stream",
          "name": "stdout",
          "text": [
            "<module 'string' from '/usr/lib/python3.7/string.py'>\n",
            "A B C D E F G H I J K L M N O P Q R S T U V W X Y Z "
          ]
        }
      ]
    },
    {
      "cell_type": "code",
      "source": [
        "for i in range(97,123):\n",
        "  for j in range(i,i+1):\n",
        "    print(chr(j),end=' ')"
      ],
      "metadata": {
        "colab": {
          "base_uri": "https://localhost:8080/"
        },
        "id": "QvoFch7q71f8",
        "outputId": "d84c00ec-f20b-40b4-e79f-1ac39762c715"
      },
      "execution_count": 37,
      "outputs": [
        {
          "output_type": "stream",
          "name": "stdout",
          "text": [
            "The ASCII value of 'A' is 65\n",
            "a b c d e f g h i j k l m n o p q r s t u v w x y z "
          ]
        }
      ]
    },
    {
      "cell_type": "code",
      "source": [
        "c=input()\n",
        "v=ord(c)\n",
        "print(c,' = ',v)"
      ],
      "metadata": {
        "colab": {
          "base_uri": "https://localhost:8080/"
        },
        "id": "njJGoahH9KAk",
        "outputId": "8f03a528-58e4-438b-9ee6-a88bbedf6ff4"
      },
      "execution_count": 42,
      "outputs": [
        {
          "output_type": "stream",
          "name": "stdout",
          "text": [
            "Z\n",
            "Z  =  90\n"
          ]
        }
      ]
    },
    {
      "cell_type": "code",
      "source": [
        "for i in range (65,70):\n",
        "    # inner loop\n",
        "    for j in range(65,i+1):\n",
        "        print(chr(j),end=\"\")\n",
        "    print()"
      ],
      "metadata": {
        "colab": {
          "base_uri": "https://localhost:8080/"
        },
        "id": "EUMyaoX47IUK",
        "outputId": "fb475ed9-c7ea-43ce-bb00-f9b2e92649d8"
      },
      "execution_count": 50,
      "outputs": [
        {
          "output_type": "stream",
          "name": "stdout",
          "text": [
            "A\n",
            "AB\n",
            "ABC\n",
            "ABCD\n",
            "ABCDE\n"
          ]
        }
      ]
    },
    {
      "cell_type": "code",
      "source": [
        "for i in range(65,70):\n",
        "    k=i\n",
        "    # Inner loop\n",
        "    for j in range(65,i+1):\n",
        "        print(chr(k),end=\"\")\n",
        "        k=k+1\n",
        "    print()"
      ],
      "metadata": {
        "colab": {
          "base_uri": "https://localhost:8080/"
        },
        "id": "PwlIKCalBiAT",
        "outputId": "7ac07ce9-f5b2-4875-d194-440c1bb1099f"
      },
      "execution_count": 54,
      "outputs": [
        {
          "output_type": "stream",
          "name": "stdout",
          "text": [
            "A\n",
            "BC\n",
            "CDE\n",
            "DEFG\n",
            "EFGHI\n"
          ]
        }
      ]
    },
    {
      "cell_type": "code",
      "source": [
        "c=input()\n",
        "v=ord(c)\n",
        "x=int(input('how many rows you want '))\n",
        "for i in range(v,v+x):\n",
        "  for j in range(v,i+1):\n",
        "    print(chr(j),end=' ')\n",
        "  print()\n",
        "  \n",
        "  "
      ],
      "metadata": {
        "colab": {
          "base_uri": "https://localhost:8080/"
        },
        "id": "t36BNpkA9ZnS",
        "outputId": "47f6483e-5eed-4c8a-e5d6-4235cebad5a7"
      },
      "execution_count": 58,
      "outputs": [
        {
          "output_type": "stream",
          "name": "stdout",
          "text": [
            "A\n",
            "how many rows you want 7\n",
            "A \n",
            "A B \n",
            "A B C \n",
            "A B C D \n",
            "A B C D E \n",
            "A B C D E F \n",
            "A B C D E F G \n"
          ]
        }
      ]
    },
    {
      "cell_type": "code",
      "source": [
        "c=input('enter character : ')\n",
        "v=ord(c)\n",
        "x=int(input('enter how many rows you want : '))\n",
        "for i in range(v,v+x):\n",
        "  k=i\n",
        "  for j in range(v,i+1):\n",
        "    print(chr(k),end=' ')\n",
        "    k+=1\n",
        "  print()"
      ],
      "metadata": {
        "colab": {
          "base_uri": "https://localhost:8080/"
        },
        "id": "jI9SFl42BkAS",
        "outputId": "04dc0d4c-3139-45b5-8552-8f9c3bcff209"
      },
      "execution_count": 57,
      "outputs": [
        {
          "output_type": "stream",
          "name": "stdout",
          "text": [
            "enter character : R\n",
            "enter how many rows you want : 5\n",
            "R \n",
            "S T \n",
            "T U V \n",
            "U V W X \n",
            "V W X Y Z \n"
          ]
        }
      ]
    }
  ]
}